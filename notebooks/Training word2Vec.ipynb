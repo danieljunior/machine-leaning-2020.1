{
 "cells": [
  {
   "cell_type": "code",
   "execution_count": 1,
   "metadata": {},
   "outputs": [
    {
     "name": "stderr",
     "output_type": "stream",
     "text": [
      "[nltk_data] Downloading package stopwords to /root/nltk_data...\n",
      "[nltk_data]   Package stopwords is already up-to-date!\n"
     ]
    },
    {
     "data": {
      "text/plain": [
       "131072"
      ]
     },
     "execution_count": 1,
     "metadata": {},
     "output_type": "execute_result"
    }
   ],
   "source": [
    "import re\n",
    "import csv\n",
    "import time\n",
    "import nltk\n",
    "import numpy as np\n",
    "from gensim import utils\n",
    "from gensim.models import KeyedVectors\n",
    "import gensim.models\n",
    "from tqdm import tqdm\n",
    "import pandas as pd\n",
    "from sklearn import preprocessing\n",
    "from sklearn.model_selection import train_test_split\n",
    "from sklearn.model_selection import KFold\n",
    "from sklearn.metrics import precision_recall_fscore_support\n",
    "from sklearn.neighbors import KNeighborsClassifier\n",
    "from sklearn.svm import SVC\n",
    "from sklearn.neural_network import MLPClassifier\n",
    "from sklearn.feature_extraction.text import TfidfVectorizer\n",
    "\n",
    "nltk.download('stopwords')\n",
    "\n",
    "csv.field_size_limit(100000000)"
   ]
  },
  {
   "cell_type": "code",
   "execution_count": 2,
   "metadata": {},
   "outputs": [],
   "source": [
    "class TCUCorpus(object):\n",
    "    \"\"\"An interator that yields sentences (lists of str).\"\"\"\n",
    "    \n",
    "    @staticmethod\n",
    "    def clean_text(text):\n",
    "        #source: https://medium.com/ml2vec/using-word2vec-to-analyze-reddit-comments-28945d8cee57\n",
    "        \n",
    "        #Normalize tabs and remove newlines\n",
    "        no_tabs = str(text).replace('\\t', ' ').replace('\\n', '');\n",
    "        \n",
    "        #Remove all characters except A-Z\n",
    "        alphas_only = re.sub(\"[^a-zA-Z]\", \" \", no_tabs);\n",
    "        \n",
    "        #Normalize spaces to 1\n",
    "        multi_spaces = re.sub(\" +\", \" \", alphas_only);\n",
    "        \n",
    "        #Strip trailing and leading spaces\n",
    "        no_spaces = multi_spaces.strip();\n",
    "        \n",
    "        #Remove stopwords \n",
    "        stopwords = nltk.corpus.stopwords.words('portuguese')\n",
    "        clean_text = [w for w in no_spaces.split() if not w in stopwords] \n",
    "\n",
    "        return ' '.join(clean_text)\n",
    "    \n",
    "    @staticmethod\n",
    "    def preprocess(text):\n",
    "        return utils.simple_preprocess(TCUCorpus.clean_text(text))\n",
    "                \n",
    "\n",
    "    def __iter__(self):\n",
    "        filename = 'datasets/acordaos_relator_5k.csv'\n",
    "        with open(filename, \"r\") as csvfile:\n",
    "            corpus = csv.reader(csvfile)\n",
    "            next(corpus) #ignores header\n",
    "            for doc in tqdm(corpus):\n",
    "                yield TCUCorpus.preprocess(doc[1])"
   ]
  },
  {
   "cell_type": "code",
   "execution_count": 3,
   "metadata": {},
   "outputs": [],
   "source": [
    "def train_w2v(corpus, sg=0):\n",
    "#     sg ({0, 1}, optional) – Training algorithm: 1 for skip-gram; otherwise CBOW.\n",
    "# In the CBOW model, the distributed representations of context (or surrounding words) \n",
    "# are combined to predict the word in the middle. \n",
    "# While in the Skip-gram model, the distributed representation of the input word is used \n",
    "# to predict the context.\n",
    "# https://towardsdatascience.com/nlp-101-word2vec-skip-gram-and-cbow-93512ee24314\n",
    "    model = gensim.models.Word2Vec(sentences=corpus, min_count=50, size=100, workers=4, sg=sg)\n",
    "    return model\n",
    "\n",
    "def load_w2v(path='model.bin'):\n",
    "    model = gensim.models.Word2Vec.load(path)\n",
    "    return model\n",
    "\n",
    "def load_pretrained_w2v(path):\n",
    "    model = KeyedVectors.load_word2vec_format(path)\n",
    "    return model"
   ]
  },
  {
   "cell_type": "code",
   "execution_count": 4,
   "metadata": {},
   "outputs": [],
   "source": [
    "# source: https://github.com/v1shwa/document-similarity/blob/master/DocSim.py\n",
    "class DocW2V:\n",
    "    \n",
    "    def __init__(self, w2v_model):\n",
    "        self.w2v_model = w2v_model\n",
    "        \n",
    "    def transform(self, docs):\n",
    "        return np.array([self.vectorize(doc) for doc in docs])\n",
    "\n",
    "    def vectorize(self, doc: str) -> np.ndarray:\n",
    "        \"\"\"\n",
    "        Identify the vector values for each word in the given document\n",
    "        :param doc:\n",
    "        :return:\n",
    "        \"\"\"\n",
    "        \n",
    "        words = TCUCorpus.preprocess(doc)\n",
    "        word_vecs = []\n",
    "        for word in words:\n",
    "            try:\n",
    "                vec = self.w2v_model.wv[word]\n",
    "                word_vecs.append(vec)\n",
    "            except KeyError:\n",
    "                # Ignore, if the word doesn't exist in the vocabulary\n",
    "                pass\n",
    "\n",
    "        # Assuming that document vector is the mean of all the word vectors\n",
    "        # PS: There are other & better ways to do it.\n",
    "        vector = np.mean(word_vecs, axis=0)\n",
    "        return vector"
   ]
  },
  {
   "cell_type": "code",
   "execution_count": 5,
   "metadata": {},
   "outputs": [],
   "source": [
    "docs = pd.read_csv('datasets/acordaos_relator_5k.csv')\n",
    "# corpus = TCUCorpus()\n",
    "# model = train_w2v(corpus)\n",
    "# model.save('model.bin')\n",
    "model_trained = load_w2v('model.bin')\n",
    "# http://www.nilc.icmc.usp.br/embeddings - CBOW 100\n",
    "model_pretrained = load_pretrained_w2v('cbow_s100.txt')"
   ]
  },
  {
   "cell_type": "code",
   "execution_count": 6,
   "metadata": {},
   "outputs": [
    {
     "data": {
      "text/plain": [
       "TfidfVectorizer(analyzer='word', binary=False, decode_error='strict',\n",
       "                dtype=<class 'numpy.float64'>, encoding='utf-8',\n",
       "                input='content', lowercase=True, max_df=1.0, max_features=None,\n",
       "                min_df=1, ngram_range=(1, 1), norm='l2', preprocessor=None,\n",
       "                smooth_idf=True, stop_words=None, strip_accents=None,\n",
       "                sublinear_tf=False, token_pattern='(?u)\\\\b\\\\w\\\\w+\\\\b',\n",
       "                tokenizer=None, use_idf=True, vocabulary=None)"
      ]
     },
     "execution_count": 6,
     "metadata": {},
     "output_type": "execute_result"
    }
   ],
   "source": [
    "tfidf = TfidfVectorizer()\n",
    "tfidf.fit([TCUCorpus.clean_text(doc) for doc in docs])"
   ]
  },
  {
   "cell_type": "code",
   "execution_count": 7,
   "metadata": {},
   "outputs": [],
   "source": [
    "X = np.array(docs.acordao)\n",
    "le = preprocessing.LabelEncoder()\n",
    "y = le.fit_transform(np.array(docs.relator.tolist()))"
   ]
  },
  {
   "cell_type": "code",
   "execution_count": 8,
   "metadata": {},
   "outputs": [
    {
     "name": "stderr",
     "output_type": "stream",
     "text": [
      " 33%|███▎      | 1/3 [00:46<01:33, 46.75s/it]/opt/conda/lib/python3.7/site-packages/ipykernel_launcher.py:21: DeprecationWarning: Call to deprecated `wv` (Attribute will be removed in 4.0.0, use self instead).\n",
      "100%|██████████| 3/3 [15:36<00:00, 312.18s/it]\n"
     ]
    }
   ],
   "source": [
    "X_train, X_test, y_train, y_test = train_test_split(X, y, test_size=0.2, random_state=42)\n",
    "\n",
    "embedders = [\n",
    "    tfidf, \n",
    "    DocW2V(model_pretrained), \n",
    "    DocW2V(model_trained)\n",
    "]\n",
    "embedders_map = { 0:'TFIDF', 1:'PRETRAINED', 2:'TRAINED'}\n",
    "data_embedded = []\n",
    "for embedder in tqdm(embedders):\n",
    "    X_train_enc = embedder.transform(X_train)\n",
    "    X_test_enc = embedder.transform(X_test)\n",
    "    data_embedded.append((X_train_enc, X_test_enc))"
   ]
  },
  {
   "cell_type": "code",
   "execution_count": 9,
   "metadata": {},
   "outputs": [
    {
     "name": "stderr",
     "output_type": "stream",
     "text": [
      "0it [00:00, ?it/s]"
     ]
    },
    {
     "name": "stdout",
     "output_type": "stream",
     "text": [
      "{'CLASSIFIER': 'KNN', 'EMBEDDER': 'TFIDF', 'PRECISION': 0.11129185305679816, 'RECALL': 0.11129185305679816, 'F1SCORE': 0.11129185305679816, 'TIME': 71.49899262399776}\n",
      "{'CLASSIFIER': 'KNN', 'EMBEDDER': 'PRETRAINED', 'PRECISION': 0.714111427409516, 'RECALL': 0.714111427409516, 'F1SCORE': 0.714111427409516, 'TIME': 507.5953508349994}\n",
      "{'CLASSIFIER': 'KNN', 'EMBEDDER': 'TRAINED', 'PRECISION': 0.7246396457457864, 'RECALL': 0.7246396457457864, 'F1SCORE': 0.7246396457457864, 'TIME': 192.03062428599878}\n",
      "{'CLASSIFIER': 'SVM', 'EMBEDDER': 'TFIDF', 'PRECISION': 0.1661470335728164, 'RECALL': 0.1661470335728164, 'F1SCORE': 0.1661470335728164, 'TIME': 1814.2494784329974}\n",
      "{'CLASSIFIER': 'SVM', 'EMBEDDER': 'PRETRAINED', 'PRECISION': 0.34697935023270526, 'RECALL': 0.34697935023270526, 'F1SCORE': 0.34697935023270526, 'TIME': 10349.277052106001}\n",
      "{'CLASSIFIER': 'SVM', 'EMBEDDER': 'TRAINED', 'PRECISION': 0.7308300573855677, 'RECALL': 0.7308300573855677, 'F1SCORE': 0.7308300573855677, 'TIME': 4906.770805248001}\n",
      "{'CLASSIFIER': 'MLP', 'EMBEDDER': 'TFIDF', 'PRECISION': 0.1661470335728164, 'RECALL': 0.1661470335728164, 'F1SCORE': 0.1661470335728164, 'TIME': 16.724761746001604}\n"
     ]
    },
    {
     "name": "stderr",
     "output_type": "stream",
     "text": [
      "/opt/conda/lib/python3.7/site-packages/sklearn/neural_network/multilayer_perceptron.py:566: ConvergenceWarning: Stochastic Optimizer: Maximum iterations (300) reached and the optimization hasn't converged yet.\n",
      "  % self.max_iter, ConvergenceWarning)\n"
     ]
    },
    {
     "name": "stdout",
     "output_type": "stream",
     "text": [
      "{'CLASSIFIER': 'MLP', 'EMBEDDER': 'PRETRAINED', 'PRECISION': 0.704667660747368, 'RECALL': 0.704667660747368, 'F1SCORE': 0.704667660747368, 'TIME': 1746.1100166589968}\n"
     ]
    },
    {
     "name": "stderr",
     "output_type": "stream",
     "text": [
      "/opt/conda/lib/python3.7/site-packages/sklearn/neural_network/multilayer_perceptron.py:566: ConvergenceWarning: Stochastic Optimizer: Maximum iterations (300) reached and the optimization hasn't converged yet.\n",
      "  % self.max_iter, ConvergenceWarning)\n",
      "1it [5:32:21, 19941.80s/it]"
     ]
    },
    {
     "name": "stdout",
     "output_type": "stream",
     "text": [
      "{'CLASSIFIER': 'MLP', 'EMBEDDER': 'TRAINED', 'PRECISION': 0.7684695675748949, 'RECALL': 0.7684695675748949, 'F1SCORE': 0.7684695675748949, 'TIME': 337.22980569100037}\n",
      "{'CLASSIFIER': 'KNN', 'EMBEDDER': 'TFIDF', 'PRECISION': 0.16470109800732005, 'RECALL': 0.16470109800732005, 'F1SCORE': 0.16470109800732005, 'TIME': 71.31086349999532}\n",
      "{'CLASSIFIER': 'KNN', 'EMBEDDER': 'PRETRAINED', 'PRECISION': 0.7149247661651078, 'RECALL': 0.7149247661651078, 'F1SCORE': 0.7149247661651078, 'TIME': 507.43941625799926}\n",
      "{'CLASSIFIER': 'KNN', 'EMBEDDER': 'TRAINED', 'PRECISION': 0.7223351859382766, 'RECALL': 0.7223351859382766, 'F1SCORE': 0.7223351859382766, 'TIME': 191.16286838200176}\n",
      "{'CLASSIFIER': 'SVM', 'EMBEDDER': 'TFIDF', 'PRECISION': 0.16470109800732005, 'RECALL': 0.16470109800732005, 'F1SCORE': 0.16470109800732005, 'TIME': 1827.385535239002}\n",
      "{'CLASSIFIER': 'SVM', 'EMBEDDER': 'PRETRAINED', 'PRECISION': 0.34521711626225654, 'RECALL': 0.34521711626225654, 'F1SCORE': 0.34521711626225654, 'TIME': 10338.410488287998}\n",
      "{'CLASSIFIER': 'SVM', 'EMBEDDER': 'TRAINED', 'PRECISION': 0.730965613844833, 'RECALL': 0.730965613844833, 'F1SCORE': 0.730965613844833, 'TIME': 4790.25686057}\n",
      "{'CLASSIFIER': 'MLP', 'EMBEDDER': 'TFIDF', 'PRECISION': 0.16470109800732005, 'RECALL': 0.16470109800732005, 'F1SCORE': 0.16470109800732005, 'TIME': 25.496745698997984}\n"
     ]
    },
    {
     "name": "stderr",
     "output_type": "stream",
     "text": [
      "/opt/conda/lib/python3.7/site-packages/sklearn/neural_network/multilayer_perceptron.py:566: ConvergenceWarning: Stochastic Optimizer: Maximum iterations (300) reached and the optimization hasn't converged yet.\n",
      "  % self.max_iter, ConvergenceWarning)\n"
     ]
    },
    {
     "name": "stdout",
     "output_type": "stream",
     "text": [
      "{'CLASSIFIER': 'MLP', 'EMBEDDER': 'PRETRAINED', 'PRECISION': 0.7047580317202115, 'RECALL': 0.7047580317202115, 'F1SCORE': 0.7047580317202115, 'TIME': 1765.0889573999957}\n"
     ]
    },
    {
     "name": "stderr",
     "output_type": "stream",
     "text": [
      "/opt/conda/lib/python3.7/site-packages/sklearn/neural_network/multilayer_perceptron.py:566: ConvergenceWarning: Stochastic Optimizer: Maximum iterations (300) reached and the optimization hasn't converged yet.\n",
      "  % self.max_iter, ConvergenceWarning)\n",
      "2it [11:03:18, 19916.41s/it]"
     ]
    },
    {
     "name": "stdout",
     "output_type": "stream",
     "text": [
      "{'CLASSIFIER': 'MLP', 'EMBEDDER': 'TRAINED', 'PRECISION': 0.7675658578464597, 'RECALL': 0.7675658578464597, 'F1SCORE': 0.7675658578464597, 'TIME': 340.40355318500224}\n",
      "{'CLASSIFIER': 'KNN', 'EMBEDDER': 'TFIDF', 'PRECISION': 0.11020740138267589, 'RECALL': 0.11020740138267589, 'F1SCORE': 0.11020740138267589, 'TIME': 70.71676280799875}\n",
      "{'CLASSIFIER': 'KNN', 'EMBEDDER': 'PRETRAINED', 'PRECISION': 0.7126654918440197, 'RECALL': 0.7126654918440197, 'F1SCORE': 0.7126654918440197, 'TIME': 507.70736871100235}\n",
      "{'CLASSIFIER': 'KNN', 'EMBEDDER': 'TRAINED', 'PRECISION': 0.7268989200668745, 'RECALL': 0.7268989200668745, 'F1SCORE': 0.7268989200668744, 'TIME': 192.1323286600018}\n",
      "{'CLASSIFIER': 'SVM', 'EMBEDDER': 'TFIDF', 'PRECISION': 0.17057521124214903, 'RECALL': 0.17057521124214903, 'F1SCORE': 0.17057521124214903, 'TIME': 1825.6051497189983}\n",
      "{'CLASSIFIER': 'SVM', 'EMBEDDER': 'PRETRAINED', 'PRECISION': 0.35023270525507205, 'RECALL': 0.35023270525507205, 'F1SCORE': 0.35023270525507205, 'TIME': 10328.605718121005}\n",
      "{'CLASSIFIER': 'SVM', 'EMBEDDER': 'TRAINED', 'PRECISION': 0.7308300573855677, 'RECALL': 0.7308300573855677, 'F1SCORE': 0.7308300573855677, 'TIME': 4783.35431795301}\n",
      "{'CLASSIFIER': 'MLP', 'EMBEDDER': 'TFIDF', 'PRECISION': 0.17057521124214903, 'RECALL': 0.17057521124214903, 'F1SCORE': 0.17057521124214903, 'TIME': 25.65099210399785}\n"
     ]
    },
    {
     "name": "stderr",
     "output_type": "stream",
     "text": [
      "/opt/conda/lib/python3.7/site-packages/sklearn/neural_network/multilayer_perceptron.py:566: ConvergenceWarning: Stochastic Optimizer: Maximum iterations (300) reached and the optimization hasn't converged yet.\n",
      "  % self.max_iter, ConvergenceWarning)\n"
     ]
    },
    {
     "name": "stdout",
     "output_type": "stream",
     "text": [
      "{'CLASSIFIER': 'MLP', 'EMBEDDER': 'PRETRAINED', 'PRECISION': 0.7028150558040758, 'RECALL': 0.7028150558040758, 'F1SCORE': 0.7028150558040758, 'TIME': 1698.0389175180026}\n"
     ]
    },
    {
     "name": "stderr",
     "output_type": "stream",
     "text": [
      "/opt/conda/lib/python3.7/site-packages/sklearn/neural_network/multilayer_perceptron.py:566: ConvergenceWarning: Stochastic Optimizer: Maximum iterations (300) reached and the optimization hasn't converged yet.\n",
      "  % self.max_iter, ConvergenceWarning)\n",
      "3it [16:32:49, 19872.70s/it]"
     ]
    },
    {
     "name": "stdout",
     "output_type": "stream",
     "text": [
      "{'CLASSIFIER': 'MLP', 'EMBEDDER': 'TRAINED', 'PRECISION': 0.7702318015453437, 'RECALL': 0.7702318015453437, 'F1SCORE': 0.7702318015453435, 'TIME': 338.6869627269916}\n",
      "{'CLASSIFIER': 'KNN', 'EMBEDDER': 'TFIDF', 'PRECISION': 0.16818038046179568, 'RECALL': 0.16818038046179568, 'F1SCORE': 0.16818038046179568, 'TIME': 69.4876587089966}\n",
      "{'CLASSIFIER': 'KNN', 'EMBEDDER': 'PRETRAINED', 'PRECISION': 0.7159188468663865, 'RECALL': 0.7159188468663865, 'F1SCORE': 0.7159188468663865, 'TIME': 507.5534023539949}\n",
      "{'CLASSIFIER': 'KNN', 'EMBEDDER': 'TRAINED', 'PRECISION': 0.726989291039718, 'RECALL': 0.726989291039718, 'F1SCORE': 0.726989291039718, 'TIME': 193.0247450099996}\n",
      "{'CLASSIFIER': 'SVM', 'EMBEDDER': 'TFIDF', 'PRECISION': 0.16818038046179568, 'RECALL': 0.16818038046179568, 'F1SCORE': 0.16818038046179568, 'TIME': 1828.2594947250036}\n",
      "{'CLASSIFIER': 'SVM', 'EMBEDDER': 'PRETRAINED', 'PRECISION': 0.3519949392255208, 'RECALL': 0.3519949392255208, 'F1SCORE': 0.3519949392255208, 'TIME': 10531.117637360992}\n",
      "{'CLASSIFIER': 'SVM', 'EMBEDDER': 'TRAINED', 'PRECISION': 0.7323663639239076, 'RECALL': 0.7323663639239076, 'F1SCORE': 0.7323663639239077, 'TIME': 4855.440707615009}\n",
      "{'CLASSIFIER': 'MLP', 'EMBEDDER': 'TFIDF', 'PRECISION': 0.16818038046179568, 'RECALL': 0.16818038046179568, 'F1SCORE': 0.16818038046179568, 'TIME': 25.66785013298795}\n"
     ]
    },
    {
     "name": "stderr",
     "output_type": "stream",
     "text": [
      "/opt/conda/lib/python3.7/site-packages/sklearn/neural_network/multilayer_perceptron.py:566: ConvergenceWarning: Stochastic Optimizer: Maximum iterations (300) reached and the optimization hasn't converged yet.\n",
      "  % self.max_iter, ConvergenceWarning)\n"
     ]
    },
    {
     "name": "stdout",
     "output_type": "stream",
     "text": [
      "{'CLASSIFIER': 'MLP', 'EMBEDDER': 'PRETRAINED', 'PRECISION': 0.7094121368216529, 'RECALL': 0.7094121368216529, 'F1SCORE': 0.7094121368216529, 'TIME': 1764.7053078129975}\n"
     ]
    },
    {
     "name": "stderr",
     "output_type": "stream",
     "text": [
      "/opt/conda/lib/python3.7/site-packages/sklearn/neural_network/multilayer_perceptron.py:566: ConvergenceWarning: Stochastic Optimizer: Maximum iterations (300) reached and the optimization hasn't converged yet.\n",
      "  % self.max_iter, ConvergenceWarning)\n",
      "4it [22:08:04, 19945.31s/it]"
     ]
    },
    {
     "name": "stdout",
     "output_type": "stream",
     "text": [
      "{'CLASSIFIER': 'MLP', 'EMBEDDER': 'TRAINED', 'PRECISION': 0.7705932854367177, 'RECALL': 0.7705932854367177, 'F1SCORE': 0.7705932854367177, 'TIME': 339.14477849399555}\n",
      "{'CLASSIFIER': 'KNN', 'EMBEDDER': 'TFIDF', 'PRECISION': 0.06416339071890109, 'RECALL': 0.06416339071890109, 'F1SCORE': 0.06416339071890109, 'TIME': 72.12239768900326}\n",
      "{'CLASSIFIER': 'KNN', 'EMBEDDER': 'PRETRAINED', 'PRECISION': 0.7127106773304415, 'RECALL': 0.7127106773304415, 'F1SCORE': 0.7127106773304415, 'TIME': 510.23869624800864}\n",
      "{'CLASSIFIER': 'KNN', 'EMBEDDER': 'TRAINED', 'PRECISION': 0.7204825809949844, 'RECALL': 0.7204825809949844, 'F1SCORE': 0.7204825809949844, 'TIME': 191.74545180200948}\n",
      "{'CLASSIFIER': 'SVM', 'EMBEDDER': 'TFIDF', 'PRECISION': 0.16931001762233971, 'RECALL': 0.16931001762233971, 'F1SCORE': 0.16931001762233971, 'TIME': 1880.163234268999}\n",
      "{'CLASSIFIER': 'SVM', 'EMBEDDER': 'PRETRAINED', 'PRECISION': 0.34779268898829696, 'RECALL': 0.34779268898829696, 'F1SCORE': 0.34779268898829696, 'TIME': 10699.718177360002}\n",
      "{'CLASSIFIER': 'SVM', 'EMBEDDER': 'TRAINED', 'PRECISION': 0.7257692829063305, 'RECALL': 0.7257692829063305, 'F1SCORE': 0.7257692829063305, 'TIME': 4793.973630003005}\n",
      "{'CLASSIFIER': 'MLP', 'EMBEDDER': 'TFIDF', 'PRECISION': 0.16931001762233971, 'RECALL': 0.16931001762233971, 'F1SCORE': 0.16931001762233971, 'TIME': 25.53285372100072}\n"
     ]
    },
    {
     "name": "stderr",
     "output_type": "stream",
     "text": [
      "/opt/conda/lib/python3.7/site-packages/sklearn/neural_network/multilayer_perceptron.py:566: ConvergenceWarning: Stochastic Optimizer: Maximum iterations (300) reached and the optimization hasn't converged yet.\n",
      "  % self.max_iter, ConvergenceWarning)\n"
     ]
    },
    {
     "name": "stdout",
     "output_type": "stream",
     "text": [
      "{'CLASSIFIER': 'MLP', 'EMBEDDER': 'PRETRAINED', 'PRECISION': 0.6989291039718043, 'RECALL': 0.6989291039718043, 'F1SCORE': 0.6989291039718043, 'TIME': 2000.8276386180078}\n"
     ]
    },
    {
     "name": "stderr",
     "output_type": "stream",
     "text": [
      "5it [27:49:11, 20101.82s/it]"
     ]
    },
    {
     "name": "stdout",
     "output_type": "stream",
     "text": [
      "{'CLASSIFIER': 'MLP', 'EMBEDDER': 'TRAINED', 'PRECISION': 0.7614206316931001, 'RECALL': 0.7614206316931001, 'F1SCORE': 0.7614206316931001, 'TIME': 292.4932198119932}\n",
      "{'CLASSIFIER': 'KNN', 'EMBEDDER': 'TFIDF', 'PRECISION': 0.12028376485472866, 'RECALL': 0.12028376485472866, 'F1SCORE': 0.12028376485472866, 'TIME': 70.12115343900223}\n",
      "{'CLASSIFIER': 'KNN', 'EMBEDDER': 'PRETRAINED', 'PRECISION': 0.7128462337897068, 'RECALL': 0.7128462337897068, 'F1SCORE': 0.7128462337897068, 'TIME': 503.9682261160051}\n",
      "{'CLASSIFIER': 'KNN', 'EMBEDDER': 'TRAINED', 'PRECISION': 0.723600379558086, 'RECALL': 0.723600379558086, 'F1SCORE': 0.723600379558086, 'TIME': 193.8865762130008}\n",
      "{'CLASSIFIER': 'SVM', 'EMBEDDER': 'TFIDF', 'PRECISION': 0.16962631602729203, 'RECALL': 0.16962631602729203, 'F1SCORE': 0.16962631602729203, 'TIME': 1832.4249324850098}\n",
      "{'CLASSIFIER': 'SVM', 'EMBEDDER': 'PRETRAINED', 'PRECISION': 0.351000858524242, 'RECALL': 0.351000858524242, 'F1SCORE': 0.351000858524242, 'TIME': 10322.415950027993}\n",
      "{'CLASSIFIER': 'SVM', 'EMBEDDER': 'TRAINED', 'PRECISION': 0.7285707830644796, 'RECALL': 0.7285707830644796, 'F1SCORE': 0.7285707830644796, 'TIME': 4792.192948823998}\n",
      "{'CLASSIFIER': 'MLP', 'EMBEDDER': 'TFIDF', 'PRECISION': 0.16962631602729203, 'RECALL': 0.16962631602729203, 'F1SCORE': 0.16962631602729203, 'TIME': 12.58272371100611}\n"
     ]
    },
    {
     "name": "stderr",
     "output_type": "stream",
     "text": [
      "/opt/conda/lib/python3.7/site-packages/sklearn/neural_network/multilayer_perceptron.py:566: ConvergenceWarning: Stochastic Optimizer: Maximum iterations (300) reached and the optimization hasn't converged yet.\n",
      "  % self.max_iter, ConvergenceWarning)\n"
     ]
    },
    {
     "name": "stdout",
     "output_type": "stream",
     "text": [
      "{'CLASSIFIER': 'MLP', 'EMBEDDER': 'PRETRAINED', 'PRECISION': 0.7099091771722923, 'RECALL': 0.7099091771722923, 'F1SCORE': 0.7099091771722922, 'TIME': 1838.9841060699837}\n"
     ]
    },
    {
     "name": "stderr",
     "output_type": "stream",
     "text": [
      "/opt/conda/lib/python3.7/site-packages/sklearn/neural_network/multilayer_perceptron.py:566: ConvergenceWarning: Stochastic Optimizer: Maximum iterations (300) reached and the optimization hasn't converged yet.\n",
      "  % self.max_iter, ConvergenceWarning)\n",
      "6it [33:20:53, 20041.88s/it]"
     ]
    },
    {
     "name": "stdout",
     "output_type": "stream",
     "text": [
      "{'CLASSIFIER': 'MLP', 'EMBEDDER': 'TRAINED', 'PRECISION': 0.768650309520582, 'RECALL': 0.768650309520582, 'F1SCORE': 0.768650309520582, 'TIME': 335.22778361698147}\n",
      "{'CLASSIFIER': 'KNN', 'EMBEDDER': 'TFIDF', 'PRECISION': 0.116623740454566, 'RECALL': 0.116623740454566, 'F1SCORE': 0.116623740454566, 'TIME': 72.89276041902485}\n",
      "{'CLASSIFIER': 'KNN', 'EMBEDDER': 'PRETRAINED', 'PRECISION': 0.7135240160860332, 'RECALL': 0.7135240160860332, 'F1SCORE': 0.7135240160860331, 'TIME': 509.3047375330061}\n",
      "{'CLASSIFIER': 'KNN', 'EMBEDDER': 'TRAINED', 'PRECISION': 0.7232388956667118, 'RECALL': 0.7232388956667118, 'F1SCORE': 0.7232388956667117, 'TIME': 192.40234002200305}\n",
      "{'CLASSIFIER': 'SVM', 'EMBEDDER': 'TFIDF', 'PRECISION': 0.1687226062988568, 'RECALL': 0.1687226062988568, 'F1SCORE': 0.1687226062988568, 'TIME': 1815.0189905550214}\n",
      "{'CLASSIFIER': 'SVM', 'EMBEDDER': 'PRETRAINED', 'PRECISION': 0.3515882698477249, 'RECALL': 0.3515882698477249, 'F1SCORE': 0.3515882698477249, 'TIME': 10334.057076180005}\n",
      "{'CLASSIFIER': 'SVM', 'EMBEDDER': 'TRAINED', 'PRECISION': 0.7286159685509015, 'RECALL': 0.7286159685509015, 'F1SCORE': 0.7286159685509015, 'TIME': 4782.1950115939835}\n",
      "{'CLASSIFIER': 'MLP', 'EMBEDDER': 'TFIDF', 'PRECISION': 0.1687226062988568, 'RECALL': 0.1687226062988568, 'F1SCORE': 0.1687226062988568, 'TIME': 12.489099611004349}\n"
     ]
    },
    {
     "name": "stderr",
     "output_type": "stream",
     "text": [
      "/opt/conda/lib/python3.7/site-packages/sklearn/neural_network/multilayer_perceptron.py:566: ConvergenceWarning: Stochastic Optimizer: Maximum iterations (300) reached and the optimization hasn't converged yet.\n",
      "  % self.max_iter, ConvergenceWarning)\n"
     ]
    },
    {
     "name": "stdout",
     "output_type": "stream",
     "text": [
      "{'CLASSIFIER': 'MLP', 'EMBEDDER': 'PRETRAINED', 'PRECISION': 0.7102706610636663, 'RECALL': 0.7102706610636663, 'F1SCORE': 0.7102706610636663, 'TIME': 1920.0992628270178}\n"
     ]
    },
    {
     "name": "stderr",
     "output_type": "stream",
     "text": [
      "/opt/conda/lib/python3.7/site-packages/sklearn/neural_network/multilayer_perceptron.py:566: ConvergenceWarning: Stochastic Optimizer: Maximum iterations (300) reached and the optimization hasn't converged yet.\n",
      "  % self.max_iter, ConvergenceWarning)\n",
      "7it [38:53:49, 20022.15s/it]"
     ]
    },
    {
     "name": "stdout",
     "output_type": "stream",
     "text": [
      "{'CLASSIFIER': 'MLP', 'EMBEDDER': 'TRAINED', 'PRECISION': 0.765984365821698, 'RECALL': 0.765984365821698, 'F1SCORE': 0.765984365821698, 'TIME': 337.4668362659868}\n",
      "{'CLASSIFIER': 'KNN', 'EMBEDDER': 'TFIDF', 'PRECISION': 0.06244634223487416, 'RECALL': 0.06244634223487416, 'F1SCORE': 0.06244634223487416, 'TIME': 69.56056229397655}\n",
      "{'CLASSIFIER': 'KNN', 'EMBEDDER': 'PRETRAINED', 'PRECISION': 0.7160544033256518, 'RECALL': 0.7160544033256518, 'F1SCORE': 0.7160544033256518, 'TIME': 513.555589088006}\n",
      "{'CLASSIFIER': 'KNN', 'EMBEDDER': 'TRAINED', 'PRECISION': 0.7203018390492973, 'RECALL': 0.7203018390492973, 'F1SCORE': 0.7203018390492973, 'TIME': 194.1175866620033}\n",
      "{'CLASSIFIER': 'SVM', 'EMBEDDER': 'TFIDF', 'PRECISION': 0.16316479146898016, 'RECALL': 0.16316479146898016, 'F1SCORE': 0.16316479146898016, 'TIME': 1954.8033098489977}\n",
      "{'CLASSIFIER': 'SVM', 'EMBEDDER': 'PRETRAINED', 'PRECISION': 0.3471600921783923, 'RECALL': 0.3471600921783923, 'F1SCORE': 0.3471600921783923, 'TIME': 10659.874153122015}\n",
      "{'CLASSIFIER': 'SVM', 'EMBEDDER': 'TRAINED', 'PRECISION': 0.7282092991731056, 'RECALL': 0.7282092991731056, 'F1SCORE': 0.7282092991731056, 'TIME': 4988.464930888993}\n",
      "{'CLASSIFIER': 'MLP', 'EMBEDDER': 'TFIDF', 'PRECISION': 0.16316479146898016, 'RECALL': 0.16316479146898016, 'F1SCORE': 0.16316479146898016, 'TIME': 26.501768055022694}\n"
     ]
    },
    {
     "name": "stderr",
     "output_type": "stream",
     "text": [
      "/opt/conda/lib/python3.7/site-packages/sklearn/neural_network/multilayer_perceptron.py:566: ConvergenceWarning: Stochastic Optimizer: Maximum iterations (300) reached and the optimization hasn't converged yet.\n",
      "  % self.max_iter, ConvergenceWarning)\n"
     ]
    },
    {
     "name": "stdout",
     "output_type": "stream",
     "text": [
      "{'CLASSIFIER': 'MLP', 'EMBEDDER': 'PRETRAINED', 'PRECISION': 0.6975735393791515, 'RECALL': 0.6975735393791515, 'F1SCORE': 0.6975735393791515, 'TIME': 2043.6329534680117}\n"
     ]
    },
    {
     "name": "stderr",
     "output_type": "stream",
     "text": [
      "/opt/conda/lib/python3.7/site-packages/sklearn/neural_network/multilayer_perceptron.py:566: ConvergenceWarning: Stochastic Optimizer: Maximum iterations (300) reached and the optimization hasn't converged yet.\n",
      "  % self.max_iter, ConvergenceWarning)\n",
      "8it [44:40:36, 20257.60s/it]"
     ]
    },
    {
     "name": "stdout",
     "output_type": "stream",
     "text": [
      "{'CLASSIFIER': 'MLP', 'EMBEDDER': 'TRAINED', 'PRECISION': 0.7698251321675478, 'RECALL': 0.7698251321675478, 'F1SCORE': 0.7698251321675477, 'TIME': 356.1703970489907}\n",
      "{'CLASSIFIER': 'KNN', 'EMBEDDER': 'TFIDF', 'PRECISION': 0.08793095657674754, 'RECALL': 0.08793095657674754, 'F1SCORE': 0.08793095657674754, 'TIME': 74.78385540898307}\n",
      "{'CLASSIFIER': 'KNN', 'EMBEDDER': 'PRETRAINED', 'PRECISION': 0.7198951696715015, 'RECALL': 0.7198951696715015, 'F1SCORE': 0.7198951696715015, 'TIME': 516.5914464880188}\n",
      "{'CLASSIFIER': 'KNN', 'EMBEDDER': 'TRAINED', 'PRECISION': 0.7252270570692694, 'RECALL': 0.7252270570692694, 'F1SCORE': 0.7252270570692694, 'TIME': 195.9045896870084}\n",
      "{'CLASSIFIER': 'SVM', 'EMBEDDER': 'TFIDF', 'PRECISION': 0.1660566625999729, 'RECALL': 0.1660566625999729, 'F1SCORE': 0.1660566625999729, 'TIME': 2136.429832281021}\n",
      "{'CLASSIFIER': 'SVM', 'EMBEDDER': 'PRETRAINED', 'PRECISION': 0.3497356649044327, 'RECALL': 0.3497356649044327, 'F1SCORE': 0.3497356649044327, 'TIME': 10643.756315900973}\n",
      "{'CLASSIFIER': 'SVM', 'EMBEDDER': 'TRAINED', 'PRECISION': 0.7320048800325335, 'RECALL': 0.7320048800325335, 'F1SCORE': 0.7320048800325335, 'TIME': 4681.816614862008}\n",
      "{'CLASSIFIER': 'MLP', 'EMBEDDER': 'TFIDF', 'PRECISION': 0.1660566625999729, 'RECALL': 0.1660566625999729, 'F1SCORE': 0.1660566625999729, 'TIME': 20.6613108709862}\n"
     ]
    },
    {
     "name": "stderr",
     "output_type": "stream",
     "text": [
      "/opt/conda/lib/python3.7/site-packages/sklearn/neural_network/multilayer_perceptron.py:566: ConvergenceWarning: Stochastic Optimizer: Maximum iterations (300) reached and the optimization hasn't converged yet.\n",
      "  % self.max_iter, ConvergenceWarning)\n"
     ]
    },
    {
     "name": "stdout",
     "output_type": "stream",
     "text": [
      "{'CLASSIFIER': 'MLP', 'EMBEDDER': 'PRETRAINED', 'PRECISION': 0.7062039672857078, 'RECALL': 0.7062039672857078, 'F1SCORE': 0.7062039672857078, 'TIME': 1990.2304524469946}\n"
     ]
    },
    {
     "name": "stderr",
     "output_type": "stream",
     "text": [
      "/opt/conda/lib/python3.7/site-packages/sklearn/neural_network/multilayer_perceptron.py:566: ConvergenceWarning: Stochastic Optimizer: Maximum iterations (300) reached and the optimization hasn't converged yet.\n",
      "  % self.max_iter, ConvergenceWarning)\n",
      "9it [50:23:50, 20358.43s/it]"
     ]
    },
    {
     "name": "stdout",
     "output_type": "stream",
     "text": [
      "{'CLASSIFIER': 'MLP', 'EMBEDDER': 'TRAINED', 'PRECISION': 0.7660295513081198, 'RECALL': 0.7660295513081198, 'F1SCORE': 0.7660295513081199, 'TIME': 333.33021656799247}\n",
      "{'CLASSIFIER': 'KNN', 'EMBEDDER': 'TFIDF', 'PRECISION': 0.16456554154805478, 'RECALL': 0.16456554154805478, 'F1SCORE': 0.16456554154805478, 'TIME': 69.70296594599495}\n",
      "{'CLASSIFIER': 'KNN', 'EMBEDDER': 'PRETRAINED', 'PRECISION': 0.7212959197505762, 'RECALL': 0.7212959197505762, 'F1SCORE': 0.7212959197505762, 'TIME': 503.90887529900647}\n",
      "{'CLASSIFIER': 'KNN', 'EMBEDDER': 'TRAINED', 'PRECISION': 0.7270344765261398, 'RECALL': 0.7270344765261398, 'F1SCORE': 0.72703447652614, 'TIME': 188.77443715601112}\n",
      "{'CLASSIFIER': 'SVM', 'EMBEDDER': 'TFIDF', 'PRECISION': 0.16461072703447652, 'RECALL': 0.16461072703447652, 'F1SCORE': 0.16461072703447652, 'TIME': 1725.4063511080167}\n",
      "{'CLASSIFIER': 'SVM', 'EMBEDDER': 'PRETRAINED', 'PRECISION': 0.34982603587727623, 'RECALL': 0.34982603587727623, 'F1SCORE': 0.34982603587727623, 'TIME': 10121.592316741997}\n",
      "{'CLASSIFIER': 'SVM', 'EMBEDDER': 'TRAINED', 'PRECISION': 0.7369300980525055, 'RECALL': 0.7369300980525055, 'F1SCORE': 0.7369300980525055, 'TIME': 4710.335115543974}\n",
      "{'CLASSIFIER': 'MLP', 'EMBEDDER': 'TFIDF', 'PRECISION': 0.16456554154805478, 'RECALL': 0.16456554154805478, 'F1SCORE': 0.16456554154805478, 'TIME': 20.83244348099106}\n"
     ]
    },
    {
     "name": "stderr",
     "output_type": "stream",
     "text": [
      "/opt/conda/lib/python3.7/site-packages/sklearn/neural_network/multilayer_perceptron.py:566: ConvergenceWarning: Stochastic Optimizer: Maximum iterations (300) reached and the optimization hasn't converged yet.\n",
      "  % self.max_iter, ConvergenceWarning)\n"
     ]
    },
    {
     "name": "stdout",
     "output_type": "stream",
     "text": [
      "{'CLASSIFIER': 'MLP', 'EMBEDDER': 'PRETRAINED', 'PRECISION': 0.705978039853599, 'RECALL': 0.705978039853599, 'F1SCORE': 0.705978039853599, 'TIME': 2001.261262097978}\n"
     ]
    },
    {
     "name": "stderr",
     "output_type": "stream",
     "text": [
      "/opt/conda/lib/python3.7/site-packages/sklearn/neural_network/multilayer_perceptron.py:566: ConvergenceWarning: Stochastic Optimizer: Maximum iterations (300) reached and the optimization hasn't converged yet.\n",
      "  % self.max_iter, ConvergenceWarning)\n",
      "10it [55:51:41, 20110.15s/it]"
     ]
    },
    {
     "name": "stdout",
     "output_type": "stream",
     "text": [
      "{'CLASSIFIER': 'MLP', 'EMBEDDER': 'TRAINED', 'PRECISION': 0.7671140029822421, 'RECALL': 0.7671140029822421, 'F1SCORE': 0.7671140029822421, 'TIME': 329.1742454560008}\n"
     ]
    },
    {
     "name": "stderr",
     "output_type": "stream",
     "text": [
      "\n"
     ]
    }
   ],
   "source": [
    "results = []\n",
    "clfs = [KNeighborsClassifier(n_neighbors=7),\n",
    "        SVC(gamma='auto', random_state=42), \n",
    "        MLPClassifier(random_state=42, max_iter=300)]\n",
    "clfs_map = { 0:'KNN', 1:'SVM', 2:'MLP'}\n",
    "kf = KFold(n_splits=10)\n",
    "for train_index, test_index in tqdm(kf.split(X_train)):\n",
    "    for ci, clf in enumerate(clfs):\n",
    "        for ei, data in enumerate(data_embedded):\n",
    "            X_enc_train, X_enc_test = data\n",
    "            X_, X_validation = X_enc_train[train_index], X_enc_train[test_index]\n",
    "            y_, y_validation = y_train[train_index], y_train[test_index]\n",
    "            startTime = time.perf_counter()\n",
    "            \n",
    "            clf.fit(X_, y_)\n",
    "            y_pred = clf.predict(X_validation)\n",
    "            \n",
    "            elapsed_time = time.perf_counter() - startTime\n",
    "            \n",
    "            p, r, f, s = precision_recall_fscore_support(y_validation, y_pred, average='micro')\n",
    "            \n",
    "            result = {\"CLASSIFIER\": clfs_map[ci],\n",
    "                     \"EMBEDDER\": embedders_map[ei],\n",
    "                     \"PRECISION\": p,\n",
    "                     \"RECALL\":r,\n",
    "                     \"F1SCORE\":f,\n",
    "                     \"TIME\": elapsed_time}\n",
    "            print(result)\n",
    "            results.append(result)\n",
    "df = pd.DataFrame(results) \n",
    "df.to_csv('results.csv')"
   ]
  },
  {
   "cell_type": "markdown",
   "metadata": {},
   "source": [
    "* A escolha pela representação CBOW se dá pela grande quantidade de dados usados no experimento, pois usar o skip-gram afetaria muito o tempo de treinamento.\n",
    "* O experimento que gerou os resultados foi completado em 55 horas, 51 minutos e 41 segundos.\n",
    "* A escolha da dimensão dos _word vectors_ foi devido a limitações do hardware do experimento."
   ]
  },
  {
   "cell_type": "code",
   "execution_count": 14,
   "metadata": {},
   "outputs": [
    {
     "data": {
      "text/plain": [
       "TfidfVectorizer(analyzer='word', binary=False, decode_error='strict',\n",
       "                dtype=<class 'numpy.float64'>, encoding='utf-8',\n",
       "                input='content', lowercase=True, max_df=1.0, max_features=None,\n",
       "                min_df=1, ngram_range=(1, 1), norm='l2', preprocessor=None,\n",
       "                smooth_idf=True, stop_words=None, strip_accents=None,\n",
       "                sublinear_tf=False, token_pattern='(?u)\\\\b\\\\w\\\\w+\\\\b',\n",
       "                tokenizer=None, use_idf=True, vocabulary=None)"
      ]
     },
     "execution_count": 14,
     "metadata": {},
     "output_type": "execute_result"
    }
   ],
   "source": [
    "tfidf_ = TfidfVectorizer()\n",
    "tfidf_.fit([TCUCorpus.clean_text(doc) for doc in docs.acordao])"
   ]
  },
  {
   "cell_type": "code",
   "execution_count": 25,
   "metadata": {},
   "outputs": [
    {
     "data": {
      "text/html": [
       "<div>\n",
       "<style scoped>\n",
       "    .dataframe tbody tr th:only-of-type {\n",
       "        vertical-align: middle;\n",
       "    }\n",
       "\n",
       "    .dataframe tbody tr th {\n",
       "        vertical-align: top;\n",
       "    }\n",
       "\n",
       "    .dataframe thead th {\n",
       "        text-align: right;\n",
       "    }\n",
       "</style>\n",
       "<table border=\"1\" class=\"dataframe\">\n",
       "  <thead>\n",
       "    <tr style=\"text-align: right;\">\n",
       "      <th></th>\n",
       "      <th>CLASSIFIER</th>\n",
       "      <th>EMBEDDER</th>\n",
       "      <th>PRECISION</th>\n",
       "      <th>RECALL</th>\n",
       "      <th>F1SCORE</th>\n",
       "      <th>TIME</th>\n",
       "    </tr>\n",
       "  </thead>\n",
       "  <tbody>\n",
       "    <tr>\n",
       "      <td>0</td>\n",
       "      <td>KNN</td>\n",
       "      <td>PRETRAINED</td>\n",
       "      <td>0.714111</td>\n",
       "      <td>0.714111</td>\n",
       "      <td>0.714111</td>\n",
       "      <td>507.595351</td>\n",
       "    </tr>\n",
       "    <tr>\n",
       "      <td>1</td>\n",
       "      <td>KNN</td>\n",
       "      <td>TRAINED</td>\n",
       "      <td>0.724640</td>\n",
       "      <td>0.724640</td>\n",
       "      <td>0.724640</td>\n",
       "      <td>192.030624</td>\n",
       "    </tr>\n",
       "    <tr>\n",
       "      <td>2</td>\n",
       "      <td>SVM</td>\n",
       "      <td>PRETRAINED</td>\n",
       "      <td>0.346979</td>\n",
       "      <td>0.346979</td>\n",
       "      <td>0.346979</td>\n",
       "      <td>10349.277052</td>\n",
       "    </tr>\n",
       "    <tr>\n",
       "      <td>3</td>\n",
       "      <td>SVM</td>\n",
       "      <td>TRAINED</td>\n",
       "      <td>0.730830</td>\n",
       "      <td>0.730830</td>\n",
       "      <td>0.730830</td>\n",
       "      <td>4906.770805</td>\n",
       "    </tr>\n",
       "    <tr>\n",
       "      <td>4</td>\n",
       "      <td>MLP</td>\n",
       "      <td>PRETRAINED</td>\n",
       "      <td>0.704668</td>\n",
       "      <td>0.704668</td>\n",
       "      <td>0.704668</td>\n",
       "      <td>1746.110017</td>\n",
       "    </tr>\n",
       "    <tr>\n",
       "      <td>5</td>\n",
       "      <td>MLP</td>\n",
       "      <td>TRAINED</td>\n",
       "      <td>0.768470</td>\n",
       "      <td>0.768470</td>\n",
       "      <td>0.768470</td>\n",
       "      <td>337.229806</td>\n",
       "    </tr>\n",
       "    <tr>\n",
       "      <td>6</td>\n",
       "      <td>KNN</td>\n",
       "      <td>PRETRAINED</td>\n",
       "      <td>0.714925</td>\n",
       "      <td>0.714925</td>\n",
       "      <td>0.714925</td>\n",
       "      <td>507.439416</td>\n",
       "    </tr>\n",
       "    <tr>\n",
       "      <td>7</td>\n",
       "      <td>KNN</td>\n",
       "      <td>TRAINED</td>\n",
       "      <td>0.722335</td>\n",
       "      <td>0.722335</td>\n",
       "      <td>0.722335</td>\n",
       "      <td>191.162868</td>\n",
       "    </tr>\n",
       "    <tr>\n",
       "      <td>8</td>\n",
       "      <td>SVM</td>\n",
       "      <td>PRETRAINED</td>\n",
       "      <td>0.345217</td>\n",
       "      <td>0.345217</td>\n",
       "      <td>0.345217</td>\n",
       "      <td>10338.410488</td>\n",
       "    </tr>\n",
       "    <tr>\n",
       "      <td>9</td>\n",
       "      <td>SVM</td>\n",
       "      <td>TRAINED</td>\n",
       "      <td>0.730966</td>\n",
       "      <td>0.730966</td>\n",
       "      <td>0.730966</td>\n",
       "      <td>4790.256861</td>\n",
       "    </tr>\n",
       "    <tr>\n",
       "      <td>10</td>\n",
       "      <td>MLP</td>\n",
       "      <td>PRETRAINED</td>\n",
       "      <td>0.704758</td>\n",
       "      <td>0.704758</td>\n",
       "      <td>0.704758</td>\n",
       "      <td>1765.088957</td>\n",
       "    </tr>\n",
       "    <tr>\n",
       "      <td>11</td>\n",
       "      <td>MLP</td>\n",
       "      <td>TRAINED</td>\n",
       "      <td>0.767566</td>\n",
       "      <td>0.767566</td>\n",
       "      <td>0.767566</td>\n",
       "      <td>340.403553</td>\n",
       "    </tr>\n",
       "    <tr>\n",
       "      <td>12</td>\n",
       "      <td>KNN</td>\n",
       "      <td>PRETRAINED</td>\n",
       "      <td>0.712665</td>\n",
       "      <td>0.712665</td>\n",
       "      <td>0.712665</td>\n",
       "      <td>507.707369</td>\n",
       "    </tr>\n",
       "    <tr>\n",
       "      <td>13</td>\n",
       "      <td>KNN</td>\n",
       "      <td>TRAINED</td>\n",
       "      <td>0.726899</td>\n",
       "      <td>0.726899</td>\n",
       "      <td>0.726899</td>\n",
       "      <td>192.132329</td>\n",
       "    </tr>\n",
       "    <tr>\n",
       "      <td>14</td>\n",
       "      <td>SVM</td>\n",
       "      <td>PRETRAINED</td>\n",
       "      <td>0.350233</td>\n",
       "      <td>0.350233</td>\n",
       "      <td>0.350233</td>\n",
       "      <td>10328.605718</td>\n",
       "    </tr>\n",
       "    <tr>\n",
       "      <td>15</td>\n",
       "      <td>SVM</td>\n",
       "      <td>TRAINED</td>\n",
       "      <td>0.730830</td>\n",
       "      <td>0.730830</td>\n",
       "      <td>0.730830</td>\n",
       "      <td>4783.354318</td>\n",
       "    </tr>\n",
       "    <tr>\n",
       "      <td>16</td>\n",
       "      <td>MLP</td>\n",
       "      <td>PRETRAINED</td>\n",
       "      <td>0.702815</td>\n",
       "      <td>0.702815</td>\n",
       "      <td>0.702815</td>\n",
       "      <td>1698.038918</td>\n",
       "    </tr>\n",
       "    <tr>\n",
       "      <td>17</td>\n",
       "      <td>MLP</td>\n",
       "      <td>TRAINED</td>\n",
       "      <td>0.770232</td>\n",
       "      <td>0.770232</td>\n",
       "      <td>0.770232</td>\n",
       "      <td>338.686963</td>\n",
       "    </tr>\n",
       "    <tr>\n",
       "      <td>18</td>\n",
       "      <td>KNN</td>\n",
       "      <td>PRETRAINED</td>\n",
       "      <td>0.715919</td>\n",
       "      <td>0.715919</td>\n",
       "      <td>0.715919</td>\n",
       "      <td>507.553402</td>\n",
       "    </tr>\n",
       "    <tr>\n",
       "      <td>19</td>\n",
       "      <td>KNN</td>\n",
       "      <td>TRAINED</td>\n",
       "      <td>0.726989</td>\n",
       "      <td>0.726989</td>\n",
       "      <td>0.726989</td>\n",
       "      <td>193.024745</td>\n",
       "    </tr>\n",
       "    <tr>\n",
       "      <td>20</td>\n",
       "      <td>SVM</td>\n",
       "      <td>PRETRAINED</td>\n",
       "      <td>0.351995</td>\n",
       "      <td>0.351995</td>\n",
       "      <td>0.351995</td>\n",
       "      <td>10531.117637</td>\n",
       "    </tr>\n",
       "    <tr>\n",
       "      <td>21</td>\n",
       "      <td>SVM</td>\n",
       "      <td>TRAINED</td>\n",
       "      <td>0.732366</td>\n",
       "      <td>0.732366</td>\n",
       "      <td>0.732366</td>\n",
       "      <td>4855.440708</td>\n",
       "    </tr>\n",
       "    <tr>\n",
       "      <td>22</td>\n",
       "      <td>MLP</td>\n",
       "      <td>PRETRAINED</td>\n",
       "      <td>0.709412</td>\n",
       "      <td>0.709412</td>\n",
       "      <td>0.709412</td>\n",
       "      <td>1764.705308</td>\n",
       "    </tr>\n",
       "    <tr>\n",
       "      <td>23</td>\n",
       "      <td>MLP</td>\n",
       "      <td>TRAINED</td>\n",
       "      <td>0.770593</td>\n",
       "      <td>0.770593</td>\n",
       "      <td>0.770593</td>\n",
       "      <td>339.144778</td>\n",
       "    </tr>\n",
       "    <tr>\n",
       "      <td>24</td>\n",
       "      <td>KNN</td>\n",
       "      <td>PRETRAINED</td>\n",
       "      <td>0.712711</td>\n",
       "      <td>0.712711</td>\n",
       "      <td>0.712711</td>\n",
       "      <td>510.238696</td>\n",
       "    </tr>\n",
       "    <tr>\n",
       "      <td>25</td>\n",
       "      <td>KNN</td>\n",
       "      <td>TRAINED</td>\n",
       "      <td>0.720483</td>\n",
       "      <td>0.720483</td>\n",
       "      <td>0.720483</td>\n",
       "      <td>191.745452</td>\n",
       "    </tr>\n",
       "    <tr>\n",
       "      <td>26</td>\n",
       "      <td>SVM</td>\n",
       "      <td>PRETRAINED</td>\n",
       "      <td>0.347793</td>\n",
       "      <td>0.347793</td>\n",
       "      <td>0.347793</td>\n",
       "      <td>10699.718177</td>\n",
       "    </tr>\n",
       "    <tr>\n",
       "      <td>27</td>\n",
       "      <td>SVM</td>\n",
       "      <td>TRAINED</td>\n",
       "      <td>0.725769</td>\n",
       "      <td>0.725769</td>\n",
       "      <td>0.725769</td>\n",
       "      <td>4793.973630</td>\n",
       "    </tr>\n",
       "    <tr>\n",
       "      <td>28</td>\n",
       "      <td>MLP</td>\n",
       "      <td>PRETRAINED</td>\n",
       "      <td>0.698929</td>\n",
       "      <td>0.698929</td>\n",
       "      <td>0.698929</td>\n",
       "      <td>2000.827639</td>\n",
       "    </tr>\n",
       "    <tr>\n",
       "      <td>29</td>\n",
       "      <td>MLP</td>\n",
       "      <td>TRAINED</td>\n",
       "      <td>0.761421</td>\n",
       "      <td>0.761421</td>\n",
       "      <td>0.761421</td>\n",
       "      <td>292.493220</td>\n",
       "    </tr>\n",
       "    <tr>\n",
       "      <td>30</td>\n",
       "      <td>KNN</td>\n",
       "      <td>PRETRAINED</td>\n",
       "      <td>0.712846</td>\n",
       "      <td>0.712846</td>\n",
       "      <td>0.712846</td>\n",
       "      <td>503.968226</td>\n",
       "    </tr>\n",
       "    <tr>\n",
       "      <td>31</td>\n",
       "      <td>KNN</td>\n",
       "      <td>TRAINED</td>\n",
       "      <td>0.723600</td>\n",
       "      <td>0.723600</td>\n",
       "      <td>0.723600</td>\n",
       "      <td>193.886576</td>\n",
       "    </tr>\n",
       "    <tr>\n",
       "      <td>32</td>\n",
       "      <td>SVM</td>\n",
       "      <td>PRETRAINED</td>\n",
       "      <td>0.351001</td>\n",
       "      <td>0.351001</td>\n",
       "      <td>0.351001</td>\n",
       "      <td>10322.415950</td>\n",
       "    </tr>\n",
       "    <tr>\n",
       "      <td>33</td>\n",
       "      <td>SVM</td>\n",
       "      <td>TRAINED</td>\n",
       "      <td>0.728571</td>\n",
       "      <td>0.728571</td>\n",
       "      <td>0.728571</td>\n",
       "      <td>4792.192949</td>\n",
       "    </tr>\n",
       "    <tr>\n",
       "      <td>34</td>\n",
       "      <td>MLP</td>\n",
       "      <td>PRETRAINED</td>\n",
       "      <td>0.709909</td>\n",
       "      <td>0.709909</td>\n",
       "      <td>0.709909</td>\n",
       "      <td>1838.984106</td>\n",
       "    </tr>\n",
       "    <tr>\n",
       "      <td>35</td>\n",
       "      <td>MLP</td>\n",
       "      <td>TRAINED</td>\n",
       "      <td>0.768650</td>\n",
       "      <td>0.768650</td>\n",
       "      <td>0.768650</td>\n",
       "      <td>335.227784</td>\n",
       "    </tr>\n",
       "    <tr>\n",
       "      <td>36</td>\n",
       "      <td>KNN</td>\n",
       "      <td>PRETRAINED</td>\n",
       "      <td>0.713524</td>\n",
       "      <td>0.713524</td>\n",
       "      <td>0.713524</td>\n",
       "      <td>509.304738</td>\n",
       "    </tr>\n",
       "    <tr>\n",
       "      <td>37</td>\n",
       "      <td>KNN</td>\n",
       "      <td>TRAINED</td>\n",
       "      <td>0.723239</td>\n",
       "      <td>0.723239</td>\n",
       "      <td>0.723239</td>\n",
       "      <td>192.402340</td>\n",
       "    </tr>\n",
       "    <tr>\n",
       "      <td>38</td>\n",
       "      <td>SVM</td>\n",
       "      <td>PRETRAINED</td>\n",
       "      <td>0.351588</td>\n",
       "      <td>0.351588</td>\n",
       "      <td>0.351588</td>\n",
       "      <td>10334.057076</td>\n",
       "    </tr>\n",
       "    <tr>\n",
       "      <td>39</td>\n",
       "      <td>SVM</td>\n",
       "      <td>TRAINED</td>\n",
       "      <td>0.728616</td>\n",
       "      <td>0.728616</td>\n",
       "      <td>0.728616</td>\n",
       "      <td>4782.195012</td>\n",
       "    </tr>\n",
       "    <tr>\n",
       "      <td>40</td>\n",
       "      <td>MLP</td>\n",
       "      <td>PRETRAINED</td>\n",
       "      <td>0.710271</td>\n",
       "      <td>0.710271</td>\n",
       "      <td>0.710271</td>\n",
       "      <td>1920.099263</td>\n",
       "    </tr>\n",
       "    <tr>\n",
       "      <td>41</td>\n",
       "      <td>MLP</td>\n",
       "      <td>TRAINED</td>\n",
       "      <td>0.765984</td>\n",
       "      <td>0.765984</td>\n",
       "      <td>0.765984</td>\n",
       "      <td>337.466836</td>\n",
       "    </tr>\n",
       "    <tr>\n",
       "      <td>42</td>\n",
       "      <td>KNN</td>\n",
       "      <td>PRETRAINED</td>\n",
       "      <td>0.716054</td>\n",
       "      <td>0.716054</td>\n",
       "      <td>0.716054</td>\n",
       "      <td>513.555589</td>\n",
       "    </tr>\n",
       "    <tr>\n",
       "      <td>43</td>\n",
       "      <td>KNN</td>\n",
       "      <td>TRAINED</td>\n",
       "      <td>0.720302</td>\n",
       "      <td>0.720302</td>\n",
       "      <td>0.720302</td>\n",
       "      <td>194.117587</td>\n",
       "    </tr>\n",
       "    <tr>\n",
       "      <td>44</td>\n",
       "      <td>SVM</td>\n",
       "      <td>PRETRAINED</td>\n",
       "      <td>0.347160</td>\n",
       "      <td>0.347160</td>\n",
       "      <td>0.347160</td>\n",
       "      <td>10659.874153</td>\n",
       "    </tr>\n",
       "    <tr>\n",
       "      <td>45</td>\n",
       "      <td>SVM</td>\n",
       "      <td>TRAINED</td>\n",
       "      <td>0.728209</td>\n",
       "      <td>0.728209</td>\n",
       "      <td>0.728209</td>\n",
       "      <td>4988.464931</td>\n",
       "    </tr>\n",
       "    <tr>\n",
       "      <td>46</td>\n",
       "      <td>MLP</td>\n",
       "      <td>PRETRAINED</td>\n",
       "      <td>0.697574</td>\n",
       "      <td>0.697574</td>\n",
       "      <td>0.697574</td>\n",
       "      <td>2043.632953</td>\n",
       "    </tr>\n",
       "    <tr>\n",
       "      <td>47</td>\n",
       "      <td>MLP</td>\n",
       "      <td>TRAINED</td>\n",
       "      <td>0.769825</td>\n",
       "      <td>0.769825</td>\n",
       "      <td>0.769825</td>\n",
       "      <td>356.170397</td>\n",
       "    </tr>\n",
       "    <tr>\n",
       "      <td>48</td>\n",
       "      <td>KNN</td>\n",
       "      <td>PRETRAINED</td>\n",
       "      <td>0.719895</td>\n",
       "      <td>0.719895</td>\n",
       "      <td>0.719895</td>\n",
       "      <td>516.591446</td>\n",
       "    </tr>\n",
       "    <tr>\n",
       "      <td>49</td>\n",
       "      <td>KNN</td>\n",
       "      <td>TRAINED</td>\n",
       "      <td>0.725227</td>\n",
       "      <td>0.725227</td>\n",
       "      <td>0.725227</td>\n",
       "      <td>195.904590</td>\n",
       "    </tr>\n",
       "    <tr>\n",
       "      <td>50</td>\n",
       "      <td>SVM</td>\n",
       "      <td>PRETRAINED</td>\n",
       "      <td>0.349736</td>\n",
       "      <td>0.349736</td>\n",
       "      <td>0.349736</td>\n",
       "      <td>10643.756316</td>\n",
       "    </tr>\n",
       "    <tr>\n",
       "      <td>51</td>\n",
       "      <td>SVM</td>\n",
       "      <td>TRAINED</td>\n",
       "      <td>0.732005</td>\n",
       "      <td>0.732005</td>\n",
       "      <td>0.732005</td>\n",
       "      <td>4681.816615</td>\n",
       "    </tr>\n",
       "    <tr>\n",
       "      <td>52</td>\n",
       "      <td>MLP</td>\n",
       "      <td>PRETRAINED</td>\n",
       "      <td>0.706204</td>\n",
       "      <td>0.706204</td>\n",
       "      <td>0.706204</td>\n",
       "      <td>1990.230452</td>\n",
       "    </tr>\n",
       "    <tr>\n",
       "      <td>53</td>\n",
       "      <td>MLP</td>\n",
       "      <td>TRAINED</td>\n",
       "      <td>0.766030</td>\n",
       "      <td>0.766030</td>\n",
       "      <td>0.766030</td>\n",
       "      <td>333.330217</td>\n",
       "    </tr>\n",
       "    <tr>\n",
       "      <td>54</td>\n",
       "      <td>KNN</td>\n",
       "      <td>PRETRAINED</td>\n",
       "      <td>0.721296</td>\n",
       "      <td>0.721296</td>\n",
       "      <td>0.721296</td>\n",
       "      <td>503.908875</td>\n",
       "    </tr>\n",
       "    <tr>\n",
       "      <td>55</td>\n",
       "      <td>KNN</td>\n",
       "      <td>TRAINED</td>\n",
       "      <td>0.727034</td>\n",
       "      <td>0.727034</td>\n",
       "      <td>0.727034</td>\n",
       "      <td>188.774437</td>\n",
       "    </tr>\n",
       "    <tr>\n",
       "      <td>56</td>\n",
       "      <td>SVM</td>\n",
       "      <td>PRETRAINED</td>\n",
       "      <td>0.349826</td>\n",
       "      <td>0.349826</td>\n",
       "      <td>0.349826</td>\n",
       "      <td>10121.592317</td>\n",
       "    </tr>\n",
       "    <tr>\n",
       "      <td>57</td>\n",
       "      <td>SVM</td>\n",
       "      <td>TRAINED</td>\n",
       "      <td>0.736930</td>\n",
       "      <td>0.736930</td>\n",
       "      <td>0.736930</td>\n",
       "      <td>4710.335116</td>\n",
       "    </tr>\n",
       "    <tr>\n",
       "      <td>58</td>\n",
       "      <td>MLP</td>\n",
       "      <td>PRETRAINED</td>\n",
       "      <td>0.705978</td>\n",
       "      <td>0.705978</td>\n",
       "      <td>0.705978</td>\n",
       "      <td>2001.261262</td>\n",
       "    </tr>\n",
       "    <tr>\n",
       "      <td>59</td>\n",
       "      <td>MLP</td>\n",
       "      <td>TRAINED</td>\n",
       "      <td>0.767114</td>\n",
       "      <td>0.767114</td>\n",
       "      <td>0.767114</td>\n",
       "      <td>329.174245</td>\n",
       "    </tr>\n",
       "  </tbody>\n",
       "</table>\n",
       "</div>"
      ],
      "text/plain": [
       "   CLASSIFIER    EMBEDDER  PRECISION    RECALL   F1SCORE          TIME\n",
       "0         KNN  PRETRAINED   0.714111  0.714111  0.714111    507.595351\n",
       "1         KNN     TRAINED   0.724640  0.724640  0.724640    192.030624\n",
       "2         SVM  PRETRAINED   0.346979  0.346979  0.346979  10349.277052\n",
       "3         SVM     TRAINED   0.730830  0.730830  0.730830   4906.770805\n",
       "4         MLP  PRETRAINED   0.704668  0.704668  0.704668   1746.110017\n",
       "5         MLP     TRAINED   0.768470  0.768470  0.768470    337.229806\n",
       "6         KNN  PRETRAINED   0.714925  0.714925  0.714925    507.439416\n",
       "7         KNN     TRAINED   0.722335  0.722335  0.722335    191.162868\n",
       "8         SVM  PRETRAINED   0.345217  0.345217  0.345217  10338.410488\n",
       "9         SVM     TRAINED   0.730966  0.730966  0.730966   4790.256861\n",
       "10        MLP  PRETRAINED   0.704758  0.704758  0.704758   1765.088957\n",
       "11        MLP     TRAINED   0.767566  0.767566  0.767566    340.403553\n",
       "12        KNN  PRETRAINED   0.712665  0.712665  0.712665    507.707369\n",
       "13        KNN     TRAINED   0.726899  0.726899  0.726899    192.132329\n",
       "14        SVM  PRETRAINED   0.350233  0.350233  0.350233  10328.605718\n",
       "15        SVM     TRAINED   0.730830  0.730830  0.730830   4783.354318\n",
       "16        MLP  PRETRAINED   0.702815  0.702815  0.702815   1698.038918\n",
       "17        MLP     TRAINED   0.770232  0.770232  0.770232    338.686963\n",
       "18        KNN  PRETRAINED   0.715919  0.715919  0.715919    507.553402\n",
       "19        KNN     TRAINED   0.726989  0.726989  0.726989    193.024745\n",
       "20        SVM  PRETRAINED   0.351995  0.351995  0.351995  10531.117637\n",
       "21        SVM     TRAINED   0.732366  0.732366  0.732366   4855.440708\n",
       "22        MLP  PRETRAINED   0.709412  0.709412  0.709412   1764.705308\n",
       "23        MLP     TRAINED   0.770593  0.770593  0.770593    339.144778\n",
       "24        KNN  PRETRAINED   0.712711  0.712711  0.712711    510.238696\n",
       "25        KNN     TRAINED   0.720483  0.720483  0.720483    191.745452\n",
       "26        SVM  PRETRAINED   0.347793  0.347793  0.347793  10699.718177\n",
       "27        SVM     TRAINED   0.725769  0.725769  0.725769   4793.973630\n",
       "28        MLP  PRETRAINED   0.698929  0.698929  0.698929   2000.827639\n",
       "29        MLP     TRAINED   0.761421  0.761421  0.761421    292.493220\n",
       "30        KNN  PRETRAINED   0.712846  0.712846  0.712846    503.968226\n",
       "31        KNN     TRAINED   0.723600  0.723600  0.723600    193.886576\n",
       "32        SVM  PRETRAINED   0.351001  0.351001  0.351001  10322.415950\n",
       "33        SVM     TRAINED   0.728571  0.728571  0.728571   4792.192949\n",
       "34        MLP  PRETRAINED   0.709909  0.709909  0.709909   1838.984106\n",
       "35        MLP     TRAINED   0.768650  0.768650  0.768650    335.227784\n",
       "36        KNN  PRETRAINED   0.713524  0.713524  0.713524    509.304738\n",
       "37        KNN     TRAINED   0.723239  0.723239  0.723239    192.402340\n",
       "38        SVM  PRETRAINED   0.351588  0.351588  0.351588  10334.057076\n",
       "39        SVM     TRAINED   0.728616  0.728616  0.728616   4782.195012\n",
       "40        MLP  PRETRAINED   0.710271  0.710271  0.710271   1920.099263\n",
       "41        MLP     TRAINED   0.765984  0.765984  0.765984    337.466836\n",
       "42        KNN  PRETRAINED   0.716054  0.716054  0.716054    513.555589\n",
       "43        KNN     TRAINED   0.720302  0.720302  0.720302    194.117587\n",
       "44        SVM  PRETRAINED   0.347160  0.347160  0.347160  10659.874153\n",
       "45        SVM     TRAINED   0.728209  0.728209  0.728209   4988.464931\n",
       "46        MLP  PRETRAINED   0.697574  0.697574  0.697574   2043.632953\n",
       "47        MLP     TRAINED   0.769825  0.769825  0.769825    356.170397\n",
       "48        KNN  PRETRAINED   0.719895  0.719895  0.719895    516.591446\n",
       "49        KNN     TRAINED   0.725227  0.725227  0.725227    195.904590\n",
       "50        SVM  PRETRAINED   0.349736  0.349736  0.349736  10643.756316\n",
       "51        SVM     TRAINED   0.732005  0.732005  0.732005   4681.816615\n",
       "52        MLP  PRETRAINED   0.706204  0.706204  0.706204   1990.230452\n",
       "53        MLP     TRAINED   0.766030  0.766030  0.766030    333.330217\n",
       "54        KNN  PRETRAINED   0.721296  0.721296  0.721296    503.908875\n",
       "55        KNN     TRAINED   0.727034  0.727034  0.727034    188.774437\n",
       "56        SVM  PRETRAINED   0.349826  0.349826  0.349826  10121.592317\n",
       "57        SVM     TRAINED   0.736930  0.736930  0.736930   4710.335116\n",
       "58        MLP  PRETRAINED   0.705978  0.705978  0.705978   2001.261262\n",
       "59        MLP     TRAINED   0.767114  0.767114  0.767114    329.174245"
      ]
     },
     "execution_count": 25,
     "metadata": {},
     "output_type": "execute_result"
    }
   ],
   "source": [
    "new_df = df[df.EMBEDDER != 'TFIDF']\n",
    "new_df.reset_index(drop=True)"
   ]
  },
  {
   "cell_type": "code",
   "execution_count": 26,
   "metadata": {},
   "outputs": [
    {
     "name": "stderr",
     "output_type": "stream",
     "text": [
      "100%|██████████| 3/3 [02:40<00:00, 53.54s/it]\n"
     ]
    }
   ],
   "source": [
    "for embedder in tqdm(embedders):\n",
    "    new_X_train_enc = tfidf_.transform(X_train)\n",
    "    new_X_test_enc = tfidf_.transform(X_test)"
   ]
  },
  {
   "cell_type": "code",
   "execution_count": null,
   "metadata": {},
   "outputs": [
    {
     "name": "stderr",
     "output_type": "stream",
     "text": [
      "0it [00:00, ?it/s]"
     ]
    },
    {
     "name": "stdout",
     "output_type": "stream",
     "text": [
      "{'CLASSIFIER': 'KNN', 'EMBEDDER': 'TFIDF', 'PRECISION': 0.06506710044733631, 'RECALL': 0.06506710044733631, 'F1SCORE': 0.06506710044733631, 'TIME': 640.0019952070434}\n",
      "{'CLASSIFIER': 'SVM', 'EMBEDDER': 'TFIDF', 'PRECISION': 0.11124666757037639, 'RECALL': 0.11124666757037639, 'F1SCORE': 0.11124666757037639, 'TIME': 55685.40869214601}\n"
     ]
    }
   ],
   "source": [
    "new_results = []\n",
    "\n",
    "for train_index, test_index in tqdm(kf.split(X_train)):\n",
    "    for ci, clf in enumerate(clfs):\n",
    "        X_, X_validation = new_X_train_enc[train_index], new_X_test_enc[test_index]\n",
    "        y_, y_validation = y_train[train_index], y_train[test_index]\n",
    "        startTime = time.perf_counter()\n",
    "\n",
    "        clf.fit(X_, y_)\n",
    "        y_pred = clf.predict(X_validation)\n",
    "\n",
    "        elapsed_time = time.perf_counter() - startTime\n",
    "\n",
    "        p, r, f, s = precision_recall_fscore_support(y_validation, y_pred, average='micro')\n",
    "\n",
    "        result = {\"CLASSIFIER\": clfs_map[ci],\n",
    "                 \"EMBEDDER\": 'TFIDF',\n",
    "                 \"PRECISION\": p,\n",
    "                 \"RECALL\":r,\n",
    "                 \"F1SCORE\":f,\n",
    "                 \"TIME\": elapsed_time}\n",
    "        print(result)\n",
    "        new_results.append(result)"
   ]
  }
 ],
 "metadata": {
  "kernelspec": {
   "display_name": "Python 3",
   "language": "python",
   "name": "python3"
  },
  "language_info": {
   "codemirror_mode": {
    "name": "ipython",
    "version": 3
   },
   "file_extension": ".py",
   "mimetype": "text/x-python",
   "name": "python",
   "nbconvert_exporter": "python",
   "pygments_lexer": "ipython3",
   "version": "3.7.4"
  }
 },
 "nbformat": 4,
 "nbformat_minor": 4
}
