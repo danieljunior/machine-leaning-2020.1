{
 "cells": [
  {
   "cell_type": "code",
   "execution_count": 1,
   "metadata": {},
   "outputs": [],
   "source": [
    "import pandas as pd\n",
    "import seaborn as sns\n",
    "sns.set_palette('Set2')\n",
    "sns.set(rc={'figure.figsize':(11.7,100.)})\n",
    "import matplotlib.pyplot as plt\n",
    "%matplotlib inline"
   ]
  },
  {
   "cell_type": "markdown",
   "metadata": {},
   "source": [
    "Query dados de acordaos por relator\n",
    "\n",
    "`\n",
    "SELECT distinct(acordao), relator \n",
    "FROM acordaos \n",
    "where acordao IS NOT NULL \n",
    "AND acordao <> '' \n",
    "AND acordao <> 'SIGILOSO'\n",
    "AND relator IS NOT NULL \n",
    "AND relator <> 'SIGILOSO' \n",
    "AND relator <> ''\n",
    "`\n",
    "\n",
    "Query dados de acordaos por tipo de processo\n",
    "\n",
    "`\n",
    "SELECT acordao, tipo_processo FROM acordaos \n",
    "WHERE ano_acordao >= 2013 \n",
    "AND acordao IS NOT NULL \n",
    "AND acordao <> '' \n",
    "AND tipo_processo IS NOT NULL \n",
    "AND tipo_processo <> 'SIGILOSO' \n",
    "AND tipo_processo <> '' \n",
    "AND tipo_processo LIKE '%(%' \n",
    "AND tipo_processo = UPPER(tipo_processo)\n",
    "`"
   ]
  },
  {
   "cell_type": "markdown",
   "metadata": {},
   "source": [
    "# Análise Básica dos dados originais agrupados por relator"
   ]
  },
  {
   "cell_type": "code",
   "execution_count": 2,
   "metadata": {},
   "outputs": [
    {
     "data": {
      "text/plain": [
       "292740"
      ]
     },
     "execution_count": 2,
     "metadata": {},
     "output_type": "execute_result"
    }
   ],
   "source": [
    "relator_data = pd.read_csv('../datasets/acordaos_relator.csv')\n",
    "len(relator_data)"
   ]
  },
  {
   "cell_type": "code",
   "execution_count": 3,
   "metadata": {},
   "outputs": [
    {
     "data": {
      "text/html": [
       "<div>\n",
       "<style scoped>\n",
       "    .dataframe tbody tr th:only-of-type {\n",
       "        vertical-align: middle;\n",
       "    }\n",
       "\n",
       "    .dataframe tbody tr th {\n",
       "        vertical-align: top;\n",
       "    }\n",
       "\n",
       "    .dataframe thead th {\n",
       "        text-align: right;\n",
       "    }\n",
       "</style>\n",
       "<table border=\"1\" class=\"dataframe\">\n",
       "  <thead>\n",
       "    <tr style=\"text-align: right;\">\n",
       "      <th></th>\n",
       "      <th>acordao</th>\n",
       "    </tr>\n",
       "    <tr>\n",
       "      <th>relator</th>\n",
       "      <th></th>\n",
       "    </tr>\n",
       "  </thead>\n",
       "  <tbody>\n",
       "    <tr>\n",
       "      <td>WALTON ALENCAR RODRIGUES</td>\n",
       "      <td>30816</td>\n",
       "    </tr>\n",
       "    <tr>\n",
       "      <td>MARCOS BEMQUERER</td>\n",
       "      <td>26973</td>\n",
       "    </tr>\n",
       "    <tr>\n",
       "      <td>BENJAMIN ZYMLER</td>\n",
       "      <td>21047</td>\n",
       "    </tr>\n",
       "    <tr>\n",
       "      <td>AUGUSTO NARDES</td>\n",
       "      <td>20095</td>\n",
       "    </tr>\n",
       "    <tr>\n",
       "      <td>ANA ARRAES</td>\n",
       "      <td>19468</td>\n",
       "    </tr>\n",
       "    <tr>\n",
       "      <td>AUGUSTO SHERMAN</td>\n",
       "      <td>17514</td>\n",
       "    </tr>\n",
       "    <tr>\n",
       "      <td>ANDRÉ DE CARVALHO</td>\n",
       "      <td>16778</td>\n",
       "    </tr>\n",
       "    <tr>\n",
       "      <td>JOSÉ JORGE</td>\n",
       "      <td>15683</td>\n",
       "    </tr>\n",
       "    <tr>\n",
       "      <td>RAIMUNDO CARREIRO</td>\n",
       "      <td>15501</td>\n",
       "    </tr>\n",
       "    <tr>\n",
       "      <td>AROLDO CEDRAZ</td>\n",
       "      <td>15343</td>\n",
       "    </tr>\n",
       "    <tr>\n",
       "      <td>JOSÉ MUCIO MONTEIRO</td>\n",
       "      <td>14936</td>\n",
       "    </tr>\n",
       "    <tr>\n",
       "      <td>VALMIR CAMPELO</td>\n",
       "      <td>14570</td>\n",
       "    </tr>\n",
       "    <tr>\n",
       "      <td>WEDER DE OLIVEIRA</td>\n",
       "      <td>10182</td>\n",
       "    </tr>\n",
       "    <tr>\n",
       "      <td>BRUNO DANTAS</td>\n",
       "      <td>9361</td>\n",
       "    </tr>\n",
       "    <tr>\n",
       "      <td>VITAL DO RÊGO</td>\n",
       "      <td>8456</td>\n",
       "    </tr>\n",
       "    <tr>\n",
       "      <td>UBIRATAN AGUIAR</td>\n",
       "      <td>7507</td>\n",
       "    </tr>\n",
       "    <tr>\n",
       "      <td>MARCOS VINICIOS VILAÇA</td>\n",
       "      <td>6531</td>\n",
       "    </tr>\n",
       "    <tr>\n",
       "      <td>GUILHERME PALMEIRA</td>\n",
       "      <td>5877</td>\n",
       "    </tr>\n",
       "    <tr>\n",
       "      <td>LINCOLN MAGALHÃES DA ROCHA</td>\n",
       "      <td>4097</td>\n",
       "    </tr>\n",
       "    <tr>\n",
       "      <td>ADYLSON MOTTA</td>\n",
       "      <td>2415</td>\n",
       "    </tr>\n",
       "    <tr>\n",
       "      <td>ADHEMAR PALADINI GHISI</td>\n",
       "      <td>1723</td>\n",
       "    </tr>\n",
       "    <tr>\n",
       "      <td>HUMBERTO GUIMARÃES SOUTO</td>\n",
       "      <td>1619</td>\n",
       "    </tr>\n",
       "    <tr>\n",
       "      <td>IRAM SARAIVA</td>\n",
       "      <td>1395</td>\n",
       "    </tr>\n",
       "    <tr>\n",
       "      <td>JOSÉ ANTÔNIO BARRETO DE MACEDO</td>\n",
       "      <td>1239</td>\n",
       "    </tr>\n",
       "    <tr>\n",
       "      <td>BENTO JOSÉ BUGARIN</td>\n",
       "      <td>805</td>\n",
       "    </tr>\n",
       "    <tr>\n",
       "      <td>PAULO AFFONSO MARTINS DE OLIVEIRA</td>\n",
       "      <td>752</td>\n",
       "    </tr>\n",
       "    <tr>\n",
       "      <td>CARLOS ÁTILA ÁLVARES DA SILVA</td>\n",
       "      <td>603</td>\n",
       "    </tr>\n",
       "    <tr>\n",
       "      <td>OLAVO DRUMMOND</td>\n",
       "      <td>514</td>\n",
       "    </tr>\n",
       "    <tr>\n",
       "      <td>HOMERO SANTOS</td>\n",
       "      <td>462</td>\n",
       "    </tr>\n",
       "    <tr>\n",
       "      <td>FERNANDO GONÇALVES</td>\n",
       "      <td>368</td>\n",
       "    </tr>\n",
       "    <tr>\n",
       "      <td>LUCIANO BRANDÃO ALVES DE SOUZA</td>\n",
       "      <td>69</td>\n",
       "    </tr>\n",
       "    <tr>\n",
       "      <td>ÉLVIA LORDELLO CASTELLO BRANCO</td>\n",
       "      <td>41</td>\n",
       "    </tr>\n",
       "  </tbody>\n",
       "</table>\n",
       "</div>"
      ],
      "text/plain": [
       "                                   acordao\n",
       "relator                                   \n",
       "WALTON ALENCAR RODRIGUES             30816\n",
       "MARCOS BEMQUERER                     26973\n",
       "BENJAMIN ZYMLER                      21047\n",
       "AUGUSTO NARDES                       20095\n",
       "ANA ARRAES                           19468\n",
       "AUGUSTO SHERMAN                      17514\n",
       "ANDRÉ DE CARVALHO                    16778\n",
       "JOSÉ JORGE                           15683\n",
       "RAIMUNDO CARREIRO                    15501\n",
       "AROLDO CEDRAZ                        15343\n",
       "JOSÉ MUCIO MONTEIRO                  14936\n",
       "VALMIR CAMPELO                       14570\n",
       "WEDER DE OLIVEIRA                    10182\n",
       "BRUNO DANTAS                          9361\n",
       "VITAL DO RÊGO                         8456\n",
       "UBIRATAN AGUIAR                       7507\n",
       "MARCOS VINICIOS VILAÇA                6531\n",
       "GUILHERME PALMEIRA                    5877\n",
       "LINCOLN MAGALHÃES DA ROCHA            4097\n",
       "ADYLSON MOTTA                         2415\n",
       "ADHEMAR PALADINI GHISI                1723\n",
       "HUMBERTO GUIMARÃES SOUTO              1619\n",
       "IRAM SARAIVA                          1395\n",
       "JOSÉ ANTÔNIO BARRETO DE MACEDO        1239\n",
       "BENTO JOSÉ BUGARIN                     805\n",
       "PAULO AFFONSO MARTINS DE OLIVEIRA      752\n",
       "CARLOS ÁTILA ÁLVARES DA SILVA          603\n",
       "OLAVO DRUMMOND                         514\n",
       "HOMERO SANTOS                          462\n",
       "FERNANDO GONÇALVES                     368\n",
       "LUCIANO BRANDÃO ALVES DE SOUZA          69\n",
       "ÉLVIA LORDELLO CASTELLO BRANCO          41"
      ]
     },
     "execution_count": 3,
     "metadata": {},
     "output_type": "execute_result"
    }
   ],
   "source": [
    "relator_data.groupby('relator').count().sort_values('acordao',ascending=False)"
   ]
  },
  {
   "cell_type": "code",
   "execution_count": 4,
   "metadata": {},
   "outputs": [
    {
     "data": {
      "text/html": [
       "<div>\n",
       "<style scoped>\n",
       "    .dataframe tbody tr th:only-of-type {\n",
       "        vertical-align: middle;\n",
       "    }\n",
       "\n",
       "    .dataframe tbody tr th {\n",
       "        vertical-align: top;\n",
       "    }\n",
       "\n",
       "    .dataframe thead th {\n",
       "        text-align: right;\n",
       "    }\n",
       "</style>\n",
       "<table border=\"1\" class=\"dataframe\">\n",
       "  <thead>\n",
       "    <tr style=\"text-align: right;\">\n",
       "      <th></th>\n",
       "      <th>acordao</th>\n",
       "    </tr>\n",
       "  </thead>\n",
       "  <tbody>\n",
       "    <tr>\n",
       "      <td>count</td>\n",
       "      <td>32.00000</td>\n",
       "    </tr>\n",
       "    <tr>\n",
       "      <td>mean</td>\n",
       "      <td>9148.12500</td>\n",
       "    </tr>\n",
       "    <tr>\n",
       "      <td>std</td>\n",
       "      <td>8799.61359</td>\n",
       "    </tr>\n",
       "    <tr>\n",
       "      <td>min</td>\n",
       "      <td>41.00000</td>\n",
       "    </tr>\n",
       "    <tr>\n",
       "      <td>25%</td>\n",
       "      <td>1130.50000</td>\n",
       "    </tr>\n",
       "    <tr>\n",
       "      <td>50%</td>\n",
       "      <td>7019.00000</td>\n",
       "    </tr>\n",
       "    <tr>\n",
       "      <td>75%</td>\n",
       "      <td>15546.50000</td>\n",
       "    </tr>\n",
       "    <tr>\n",
       "      <td>max</td>\n",
       "      <td>30816.00000</td>\n",
       "    </tr>\n",
       "  </tbody>\n",
       "</table>\n",
       "</div>"
      ],
      "text/plain": [
       "           acordao\n",
       "count     32.00000\n",
       "mean    9148.12500\n",
       "std     8799.61359\n",
       "min       41.00000\n",
       "25%     1130.50000\n",
       "50%     7019.00000\n",
       "75%    15546.50000\n",
       "max    30816.00000"
      ]
     },
     "execution_count": 4,
     "metadata": {},
     "output_type": "execute_result"
    }
   ],
   "source": [
    "relator_data.groupby('relator').count().reset_index().describe()"
   ]
  },
  {
   "cell_type": "code",
   "execution_count": 5,
   "metadata": {},
   "outputs": [
    {
     "data": {
      "image/png": "[encoded data removed]",
      "text/plain": [
       "<Figure size 720x720 with 1 Axes>"
      ]
     },
     "metadata": {
      "needs_background": "light"
     },
     "output_type": "display_data"
    }
   ],
   "source": [
    "plt.figure(figsize=(10,10))\n",
    "g = sns.countplot(y=relator_data.relator)\n",
    "g.set(ylabel='Relatores',xlabel='Quantidade de acórdãos por relator')\n",
    "plt.show()"
   ]
  },
  {
   "cell_type": "code",
   "execution_count": 6,
   "metadata": {},
   "outputs": [
    {
     "data": {
      "text/plain": [
       "<matplotlib.axes._subplots.AxesSubplot at 0x7faad387b410>"
      ]
     },
     "execution_count": 6,
     "metadata": {},
     "output_type": "execute_result"
    },
    {
     "data": {
      "image/png": "[encoded data removed]",
      "text/plain": [
       "<Figure size 432x288 with 1 Axes>"
      ]
     },
     "metadata": {
      "needs_background": "light"
     },
     "output_type": "display_data"
    }
   ],
   "source": [
    "sns.boxplot(x=relator_data.groupby('relator').count().reset_index().acordao, orient='v')"
   ]
  },
  {
   "cell_type": "markdown",
   "metadata": {},
   "source": [
    "# Análise Básica dos dados agrupados por relator com mais que 5k exemplos"
   ]
  },
  {
   "cell_type": "code",
   "execution_count": 7,
   "metadata": {},
   "outputs": [
    {
     "data": {
      "text/plain": [
       "276638"
      ]
     },
     "execution_count": 7,
     "metadata": {},
     "output_type": "execute_result"
    }
   ],
   "source": [
    "relatores_5k = relator_data.groupby('relator').filter(lambda x: len(x) > 5000)\n",
    "len(relatores_5k)"
   ]
  },
  {
   "cell_type": "code",
   "execution_count": 8,
   "metadata": {},
   "outputs": [
    {
     "data": {
      "text/html": [
       "<div>\n",
       "<style scoped>\n",
       "    .dataframe tbody tr th:only-of-type {\n",
       "        vertical-align: middle;\n",
       "    }\n",
       "\n",
       "    .dataframe tbody tr th {\n",
       "        vertical-align: top;\n",
       "    }\n",
       "\n",
       "    .dataframe thead th {\n",
       "        text-align: right;\n",
       "    }\n",
       "</style>\n",
       "<table border=\"1\" class=\"dataframe\">\n",
       "  <thead>\n",
       "    <tr style=\"text-align: right;\">\n",
       "      <th></th>\n",
       "      <th>acordao</th>\n",
       "    </tr>\n",
       "    <tr>\n",
       "      <th>relator</th>\n",
       "      <th></th>\n",
       "    </tr>\n",
       "  </thead>\n",
       "  <tbody>\n",
       "    <tr>\n",
       "      <td>WALTON ALENCAR RODRIGUES</td>\n",
       "      <td>30816</td>\n",
       "    </tr>\n",
       "    <tr>\n",
       "      <td>MARCOS BEMQUERER</td>\n",
       "      <td>26973</td>\n",
       "    </tr>\n",
       "    <tr>\n",
       "      <td>BENJAMIN ZYMLER</td>\n",
       "      <td>21047</td>\n",
       "    </tr>\n",
       "    <tr>\n",
       "      <td>AUGUSTO NARDES</td>\n",
       "      <td>20095</td>\n",
       "    </tr>\n",
       "    <tr>\n",
       "      <td>ANA ARRAES</td>\n",
       "      <td>19468</td>\n",
       "    </tr>\n",
       "    <tr>\n",
       "      <td>AUGUSTO SHERMAN</td>\n",
       "      <td>17514</td>\n",
       "    </tr>\n",
       "    <tr>\n",
       "      <td>ANDRÉ DE CARVALHO</td>\n",
       "      <td>16778</td>\n",
       "    </tr>\n",
       "    <tr>\n",
       "      <td>JOSÉ JORGE</td>\n",
       "      <td>15683</td>\n",
       "    </tr>\n",
       "    <tr>\n",
       "      <td>RAIMUNDO CARREIRO</td>\n",
       "      <td>15501</td>\n",
       "    </tr>\n",
       "    <tr>\n",
       "      <td>AROLDO CEDRAZ</td>\n",
       "      <td>15343</td>\n",
       "    </tr>\n",
       "    <tr>\n",
       "      <td>JOSÉ MUCIO MONTEIRO</td>\n",
       "      <td>14936</td>\n",
       "    </tr>\n",
       "    <tr>\n",
       "      <td>VALMIR CAMPELO</td>\n",
       "      <td>14570</td>\n",
       "    </tr>\n",
       "    <tr>\n",
       "      <td>WEDER DE OLIVEIRA</td>\n",
       "      <td>10182</td>\n",
       "    </tr>\n",
       "    <tr>\n",
       "      <td>BRUNO DANTAS</td>\n",
       "      <td>9361</td>\n",
       "    </tr>\n",
       "    <tr>\n",
       "      <td>VITAL DO RÊGO</td>\n",
       "      <td>8456</td>\n",
       "    </tr>\n",
       "    <tr>\n",
       "      <td>UBIRATAN AGUIAR</td>\n",
       "      <td>7507</td>\n",
       "    </tr>\n",
       "    <tr>\n",
       "      <td>MARCOS VINICIOS VILAÇA</td>\n",
       "      <td>6531</td>\n",
       "    </tr>\n",
       "    <tr>\n",
       "      <td>GUILHERME PALMEIRA</td>\n",
       "      <td>5877</td>\n",
       "    </tr>\n",
       "  </tbody>\n",
       "</table>\n",
       "</div>"
      ],
      "text/plain": [
       "                          acordao\n",
       "relator                          \n",
       "WALTON ALENCAR RODRIGUES    30816\n",
       "MARCOS BEMQUERER            26973\n",
       "BENJAMIN ZYMLER             21047\n",
       "AUGUSTO NARDES              20095\n",
       "ANA ARRAES                  19468\n",
       "AUGUSTO SHERMAN             17514\n",
       "ANDRÉ DE CARVALHO           16778\n",
       "JOSÉ JORGE                  15683\n",
       "RAIMUNDO CARREIRO           15501\n",
       "AROLDO CEDRAZ               15343\n",
       "JOSÉ MUCIO MONTEIRO         14936\n",
       "VALMIR CAMPELO              14570\n",
       "WEDER DE OLIVEIRA           10182\n",
       "BRUNO DANTAS                 9361\n",
       "VITAL DO RÊGO                8456\n",
       "UBIRATAN AGUIAR              7507\n",
       "MARCOS VINICIOS VILAÇA       6531\n",
       "GUILHERME PALMEIRA           5877"
      ]
     },
     "execution_count": 8,
     "metadata": {},
     "output_type": "execute_result"
    }
   ],
   "source": [
    "relatores_5k.groupby('relator').count().sort_values('acordao',ascending=False)"
   ]
  },
  {
   "cell_type": "code",
   "execution_count": 9,
   "metadata": {},
   "outputs": [
    {
     "data": {
      "text/html": [
       "<div>\n",
       "<style scoped>\n",
       "    .dataframe tbody tr th:only-of-type {\n",
       "        vertical-align: middle;\n",
       "    }\n",
       "\n",
       "    .dataframe tbody tr th {\n",
       "        vertical-align: top;\n",
       "    }\n",
       "\n",
       "    .dataframe thead th {\n",
       "        text-align: right;\n",
       "    }\n",
       "</style>\n",
       "<table border=\"1\" class=\"dataframe\">\n",
       "  <thead>\n",
       "    <tr style=\"text-align: right;\">\n",
       "      <th></th>\n",
       "      <th>acordao</th>\n",
       "    </tr>\n",
       "  </thead>\n",
       "  <tbody>\n",
       "    <tr>\n",
       "      <td>count</td>\n",
       "      <td>18.000000</td>\n",
       "    </tr>\n",
       "    <tr>\n",
       "      <td>mean</td>\n",
       "      <td>15368.777778</td>\n",
       "    </tr>\n",
       "    <tr>\n",
       "      <td>std</td>\n",
       "      <td>6829.770606</td>\n",
       "    </tr>\n",
       "    <tr>\n",
       "      <td>min</td>\n",
       "      <td>5877.000000</td>\n",
       "    </tr>\n",
       "    <tr>\n",
       "      <td>25%</td>\n",
       "      <td>9566.250000</td>\n",
       "    </tr>\n",
       "    <tr>\n",
       "      <td>50%</td>\n",
       "      <td>15422.000000</td>\n",
       "    </tr>\n",
       "    <tr>\n",
       "      <td>75%</td>\n",
       "      <td>18979.500000</td>\n",
       "    </tr>\n",
       "    <tr>\n",
       "      <td>max</td>\n",
       "      <td>30816.000000</td>\n",
       "    </tr>\n",
       "  </tbody>\n",
       "</table>\n",
       "</div>"
      ],
      "text/plain": [
       "            acordao\n",
       "count     18.000000\n",
       "mean   15368.777778\n",
       "std     6829.770606\n",
       "min     5877.000000\n",
       "25%     9566.250000\n",
       "50%    15422.000000\n",
       "75%    18979.500000\n",
       "max    30816.000000"
      ]
     },
     "execution_count": 9,
     "metadata": {},
     "output_type": "execute_result"
    }
   ],
   "source": [
    "dados_agrupados = relatores_5k.groupby('relator').count().reset_index()\n",
    "dados_agrupados.describe()"
   ]
  },
  {
   "cell_type": "code",
   "execution_count": 10,
   "metadata": {},
   "outputs": [
    {
     "data": {
      "image/png": "[encoded data removed]",
      "text/plain": [
       "<Figure size 720x360 with 1 Axes>"
      ]
     },
     "metadata": {
      "needs_background": "light"
     },
     "output_type": "display_data"
    }
   ],
   "source": [
    "plt.figure(figsize=(10,5))\n",
    "g = sns.countplot(y=relatores_5k.relator)\n",
    "g.set(ylabel='Relatores',xlabel='Quantidade de acórdãos por relator')\n",
    "plt.show()"
   ]
  },
  {
   "cell_type": "code",
   "execution_count": 11,
   "metadata": {},
   "outputs": [
    {
     "data": {
      "text/plain": [
       "<matplotlib.axes._subplots.AxesSubplot at 0x7faad02fed90>"
      ]
     },
     "execution_count": 11,
     "metadata": {},
     "output_type": "execute_result"
    },
    {
     "data": {
      "image/png": "[encoded data removed]",
      "text/plain": [
       "<Figure size 432x288 with 1 Axes>"
      ]
     },
     "metadata": {
      "needs_background": "light"
     },
     "output_type": "display_data"
    }
   ],
   "source": [
    "sns.boxplot(x=dados_agrupados.acordao, orient='v')"
   ]
  },
  {
   "cell_type": "markdown",
   "metadata": {},
   "source": [
    "# Amostragem de 10% dos dados onde cada relator tem mais que 5k acórdãos"
   ]
  },
  {
   "cell_type": "code",
   "execution_count": 12,
   "metadata": {},
   "outputs": [
    {
     "data": {
      "text/plain": [
       "27665"
      ]
     },
     "execution_count": 12,
     "metadata": {},
     "output_type": "execute_result"
    }
   ],
   "source": [
    "relatores_sampled = relatores_5k.groupby('relator')\\\n",
    "                                    .apply(pd.DataFrame.sample, frac=0.1)\\\n",
    "                                    .reset_index(drop=True)\n",
    "len(relatores_sampled)"
   ]
  },
  {
   "cell_type": "code",
   "execution_count": 13,
   "metadata": {},
   "outputs": [
    {
     "data": {
      "text/html": [
       "<div>\n",
       "<style scoped>\n",
       "    .dataframe tbody tr th:only-of-type {\n",
       "        vertical-align: middle;\n",
       "    }\n",
       "\n",
       "    .dataframe tbody tr th {\n",
       "        vertical-align: top;\n",
       "    }\n",
       "\n",
       "    .dataframe thead th {\n",
       "        text-align: right;\n",
       "    }\n",
       "</style>\n",
       "<table border=\"1\" class=\"dataframe\">\n",
       "  <thead>\n",
       "    <tr style=\"text-align: right;\">\n",
       "      <th></th>\n",
       "      <th>acordao</th>\n",
       "    </tr>\n",
       "    <tr>\n",
       "      <th>relator</th>\n",
       "      <th></th>\n",
       "    </tr>\n",
       "  </thead>\n",
       "  <tbody>\n",
       "    <tr>\n",
       "      <td>WALTON ALENCAR RODRIGUES</td>\n",
       "      <td>3082</td>\n",
       "    </tr>\n",
       "    <tr>\n",
       "      <td>MARCOS BEMQUERER</td>\n",
       "      <td>2697</td>\n",
       "    </tr>\n",
       "    <tr>\n",
       "      <td>BENJAMIN ZYMLER</td>\n",
       "      <td>2105</td>\n",
       "    </tr>\n",
       "    <tr>\n",
       "      <td>AUGUSTO NARDES</td>\n",
       "      <td>2010</td>\n",
       "    </tr>\n",
       "    <tr>\n",
       "      <td>ANA ARRAES</td>\n",
       "      <td>1947</td>\n",
       "    </tr>\n",
       "    <tr>\n",
       "      <td>AUGUSTO SHERMAN</td>\n",
       "      <td>1751</td>\n",
       "    </tr>\n",
       "    <tr>\n",
       "      <td>ANDRÉ DE CARVALHO</td>\n",
       "      <td>1678</td>\n",
       "    </tr>\n",
       "    <tr>\n",
       "      <td>JOSÉ JORGE</td>\n",
       "      <td>1568</td>\n",
       "    </tr>\n",
       "    <tr>\n",
       "      <td>RAIMUNDO CARREIRO</td>\n",
       "      <td>1550</td>\n",
       "    </tr>\n",
       "    <tr>\n",
       "      <td>AROLDO CEDRAZ</td>\n",
       "      <td>1534</td>\n",
       "    </tr>\n",
       "    <tr>\n",
       "      <td>JOSÉ MUCIO MONTEIRO</td>\n",
       "      <td>1494</td>\n",
       "    </tr>\n",
       "    <tr>\n",
       "      <td>VALMIR CAMPELO</td>\n",
       "      <td>1457</td>\n",
       "    </tr>\n",
       "    <tr>\n",
       "      <td>WEDER DE OLIVEIRA</td>\n",
       "      <td>1018</td>\n",
       "    </tr>\n",
       "    <tr>\n",
       "      <td>BRUNO DANTAS</td>\n",
       "      <td>936</td>\n",
       "    </tr>\n",
       "    <tr>\n",
       "      <td>VITAL DO RÊGO</td>\n",
       "      <td>846</td>\n",
       "    </tr>\n",
       "    <tr>\n",
       "      <td>UBIRATAN AGUIAR</td>\n",
       "      <td>751</td>\n",
       "    </tr>\n",
       "    <tr>\n",
       "      <td>MARCOS VINICIOS VILAÇA</td>\n",
       "      <td>653</td>\n",
       "    </tr>\n",
       "    <tr>\n",
       "      <td>GUILHERME PALMEIRA</td>\n",
       "      <td>588</td>\n",
       "    </tr>\n",
       "  </tbody>\n",
       "</table>\n",
       "</div>"
      ],
      "text/plain": [
       "                          acordao\n",
       "relator                          \n",
       "WALTON ALENCAR RODRIGUES     3082\n",
       "MARCOS BEMQUERER             2697\n",
       "BENJAMIN ZYMLER              2105\n",
       "AUGUSTO NARDES               2010\n",
       "ANA ARRAES                   1947\n",
       "AUGUSTO SHERMAN              1751\n",
       "ANDRÉ DE CARVALHO            1678\n",
       "JOSÉ JORGE                   1568\n",
       "RAIMUNDO CARREIRO            1550\n",
       "AROLDO CEDRAZ                1534\n",
       "JOSÉ MUCIO MONTEIRO          1494\n",
       "VALMIR CAMPELO               1457\n",
       "WEDER DE OLIVEIRA            1018\n",
       "BRUNO DANTAS                  936\n",
       "VITAL DO RÊGO                 846\n",
       "UBIRATAN AGUIAR               751\n",
       "MARCOS VINICIOS VILAÇA        653\n",
       "GUILHERME PALMEIRA            588"
      ]
     },
     "execution_count": 13,
     "metadata": {},
     "output_type": "execute_result"
    }
   ],
   "source": [
    "relatores_sampled.groupby('relator').count().sort_values('acordao',ascending=False)"
   ]
  },
  {
   "cell_type": "code",
   "execution_count": 14,
   "metadata": {},
   "outputs": [
    {
     "data": {
      "text/html": [
       "<div>\n",
       "<style scoped>\n",
       "    .dataframe tbody tr th:only-of-type {\n",
       "        vertical-align: middle;\n",
       "    }\n",
       "\n",
       "    .dataframe tbody tr th {\n",
       "        vertical-align: top;\n",
       "    }\n",
       "\n",
       "    .dataframe thead th {\n",
       "        text-align: right;\n",
       "    }\n",
       "</style>\n",
       "<table border=\"1\" class=\"dataframe\">\n",
       "  <thead>\n",
       "    <tr style=\"text-align: right;\">\n",
       "      <th></th>\n",
       "      <th>acordao</th>\n",
       "    </tr>\n",
       "  </thead>\n",
       "  <tbody>\n",
       "    <tr>\n",
       "      <td>count</td>\n",
       "      <td>18.000000</td>\n",
       "    </tr>\n",
       "    <tr>\n",
       "      <td>mean</td>\n",
       "      <td>1536.944444</td>\n",
       "    </tr>\n",
       "    <tr>\n",
       "      <td>std</td>\n",
       "      <td>682.988198</td>\n",
       "    </tr>\n",
       "    <tr>\n",
       "      <td>min</td>\n",
       "      <td>588.000000</td>\n",
       "    </tr>\n",
       "    <tr>\n",
       "      <td>25%</td>\n",
       "      <td>956.500000</td>\n",
       "    </tr>\n",
       "    <tr>\n",
       "      <td>50%</td>\n",
       "      <td>1542.000000</td>\n",
       "    </tr>\n",
       "    <tr>\n",
       "      <td>75%</td>\n",
       "      <td>1898.000000</td>\n",
       "    </tr>\n",
       "    <tr>\n",
       "      <td>max</td>\n",
       "      <td>3082.000000</td>\n",
       "    </tr>\n",
       "  </tbody>\n",
       "</table>\n",
       "</div>"
      ],
      "text/plain": [
       "           acordao\n",
       "count    18.000000\n",
       "mean   1536.944444\n",
       "std     682.988198\n",
       "min     588.000000\n",
       "25%     956.500000\n",
       "50%    1542.000000\n",
       "75%    1898.000000\n",
       "max    3082.000000"
      ]
     },
     "execution_count": 14,
     "metadata": {},
     "output_type": "execute_result"
    }
   ],
   "source": [
    "dados_agrupados = relatores_sampled.groupby('relator').count().reset_index()\n",
    "dados_agrupados.describe()"
   ]
  },
  {
   "cell_type": "code",
   "execution_count": 15,
   "metadata": {},
   "outputs": [
    {
     "data": {
      "image/png": "[encoded data removed]",
      "text/plain": [
       "<Figure size 720x360 with 1 Axes>"
      ]
     },
     "metadata": {
      "needs_background": "light"
     },
     "output_type": "display_data"
    }
   ],
   "source": [
    "plt.figure(figsize=(10,5))\n",
    "g = sns.countplot(y=relatores_sampled.relator)\n",
    "g.set(ylabel='Relatores',xlabel='Quantidade de acórdãos por relator')\n",
    "plt.show()"
   ]
  },
  {
   "cell_type": "code",
   "execution_count": 16,
   "metadata": {},
   "outputs": [
    {
     "data": {
      "text/plain": [
       "<matplotlib.axes._subplots.AxesSubplot at 0x7faad0248c10>"
      ]
     },
     "execution_count": 16,
     "metadata": {},
     "output_type": "execute_result"
    },
    {
     "data": {
      "image/png": "[encoded data removed]",
      "text/plain": [
       "<Figure size 432x288 with 1 Axes>"
      ]
     },
     "metadata": {
      "needs_background": "light"
     },
     "output_type": "display_data"
    }
   ],
   "source": [
    "sns.boxplot(x=dados_agrupados.acordao, orient='v')"
   ]
  }
 ],
 "metadata": {
  "kernelspec": {
   "display_name": "Python 3",
   "language": "python",
   "name": "python3"
  },
  "language_info": {
   "codemirror_mode": {
    "name": "ipython",
    "version": 3
   },
   "file_extension": ".py",
   "mimetype": "text/x-python",
   "name": "python",
   "nbconvert_exporter": "python",
   "pygments_lexer": "ipython3",
   "version": "3.7.4"
  }
 },
 "nbformat": 4,
 "nbformat_minor": 4
}
