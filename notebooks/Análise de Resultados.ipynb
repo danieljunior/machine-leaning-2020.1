{
 "cells": [
  {
   "cell_type": "code",
   "execution_count": 1,
   "metadata": {},
   "outputs": [],
   "source": [
    "import pandas as pd\n",
    "import numpy as np\n",
    "import seaborn as sns; sns.set()\n",
    "import matplotlib.pyplot as plt\n",
    "from autorank import autorank, plot_stats, create_report, latex_table"
   ]
  },
  {
   "cell_type": "markdown",
   "metadata": {},
   "source": [
    "# Resultados de Validação"
   ]
  },
  {
   "cell_type": "code",
   "execution_count": 2,
   "metadata": {},
   "outputs": [
    {
     "data": {
      "text/html": [
       "<div>\n",
       "<style scoped>\n",
       "    .dataframe tbody tr th:only-of-type {\n",
       "        vertical-align: middle;\n",
       "    }\n",
       "\n",
       "    .dataframe tbody tr th {\n",
       "        vertical-align: top;\n",
       "    }\n",
       "\n",
       "    .dataframe thead th {\n",
       "        text-align: right;\n",
       "    }\n",
       "</style>\n",
       "<table border=\"1\" class=\"dataframe\">\n",
       "  <thead>\n",
       "    <tr style=\"text-align: right;\">\n",
       "      <th></th>\n",
       "      <th>CLASSIFIER</th>\n",
       "      <th>EMBEDDER</th>\n",
       "      <th>PRECISION</th>\n",
       "      <th>RECALL</th>\n",
       "      <th>F1SCORE</th>\n",
       "      <th>TIME</th>\n",
       "    </tr>\n",
       "  </thead>\n",
       "  <tbody>\n",
       "    <tr>\n",
       "      <td>0</td>\n",
       "      <td>KNN</td>\n",
       "      <td>TFIDF</td>\n",
       "      <td>0.586269</td>\n",
       "      <td>0.586269</td>\n",
       "      <td>0.586269</td>\n",
       "      <td>8.590708</td>\n",
       "    </tr>\n",
       "    <tr>\n",
       "      <td>1</td>\n",
       "      <td>KNN</td>\n",
       "      <td>PRETRAINED</td>\n",
       "      <td>0.576332</td>\n",
       "      <td>0.576332</td>\n",
       "      <td>0.576332</td>\n",
       "      <td>9.957644</td>\n",
       "    </tr>\n",
       "    <tr>\n",
       "      <td>2</td>\n",
       "      <td>KNN</td>\n",
       "      <td>TRAINED</td>\n",
       "      <td>0.580397</td>\n",
       "      <td>0.580397</td>\n",
       "      <td>0.580397</td>\n",
       "      <td>5.361411</td>\n",
       "    </tr>\n",
       "    <tr>\n",
       "      <td>3</td>\n",
       "      <td>SVM</td>\n",
       "      <td>TFIDF</td>\n",
       "      <td>0.116983</td>\n",
       "      <td>0.116983</td>\n",
       "      <td>0.116983</td>\n",
       "      <td>658.436923</td>\n",
       "    </tr>\n",
       "    <tr>\n",
       "      <td>4</td>\n",
       "      <td>SVM</td>\n",
       "      <td>PRETRAINED</td>\n",
       "      <td>0.121048</td>\n",
       "      <td>0.121048</td>\n",
       "      <td>0.121048</td>\n",
       "      <td>137.842464</td>\n",
       "    </tr>\n",
       "    <tr>\n",
       "      <td>...</td>\n",
       "      <td>...</td>\n",
       "      <td>...</td>\n",
       "      <td>...</td>\n",
       "      <td>...</td>\n",
       "      <td>...</td>\n",
       "      <td>...</td>\n",
       "    </tr>\n",
       "    <tr>\n",
       "      <td>85</td>\n",
       "      <td>SVM</td>\n",
       "      <td>PRETRAINED</td>\n",
       "      <td>0.111161</td>\n",
       "      <td>0.111161</td>\n",
       "      <td>0.111161</td>\n",
       "      <td>126.038186</td>\n",
       "    </tr>\n",
       "    <tr>\n",
       "      <td>86</td>\n",
       "      <td>SVM</td>\n",
       "      <td>TRAINED</td>\n",
       "      <td>0.523723</td>\n",
       "      <td>0.523723</td>\n",
       "      <td>0.523723</td>\n",
       "      <td>95.171705</td>\n",
       "    </tr>\n",
       "    <tr>\n",
       "      <td>87</td>\n",
       "      <td>MLP</td>\n",
       "      <td>TFIDF</td>\n",
       "      <td>0.812020</td>\n",
       "      <td>0.812020</td>\n",
       "      <td>0.812020</td>\n",
       "      <td>2531.164760</td>\n",
       "    </tr>\n",
       "    <tr>\n",
       "      <td>88</td>\n",
       "      <td>MLP</td>\n",
       "      <td>PRETRAINED</td>\n",
       "      <td>0.629914</td>\n",
       "      <td>0.629914</td>\n",
       "      <td>0.629914</td>\n",
       "      <td>208.423105</td>\n",
       "    </tr>\n",
       "    <tr>\n",
       "      <td>89</td>\n",
       "      <td>MLP</td>\n",
       "      <td>TRAINED</td>\n",
       "      <td>0.709444</td>\n",
       "      <td>0.709444</td>\n",
       "      <td>0.709444</td>\n",
       "      <td>27.631176</td>\n",
       "    </tr>\n",
       "  </tbody>\n",
       "</table>\n",
       "<p>90 rows × 6 columns</p>\n",
       "</div>"
      ],
      "text/plain": [
       "   CLASSIFIER    EMBEDDER  PRECISION    RECALL   F1SCORE         TIME\n",
       "0         KNN       TFIDF   0.586269  0.586269  0.586269     8.590708\n",
       "1         KNN  PRETRAINED   0.576332  0.576332  0.576332     9.957644\n",
       "2         KNN     TRAINED   0.580397  0.580397  0.580397     5.361411\n",
       "3         SVM       TFIDF   0.116983  0.116983  0.116983   658.436923\n",
       "4         SVM  PRETRAINED   0.121048  0.121048  0.121048   137.842464\n",
       "..        ...         ...        ...       ...       ...          ...\n",
       "85        SVM  PRETRAINED   0.111161  0.111161  0.111161   126.038186\n",
       "86        SVM     TRAINED   0.523723  0.523723  0.523723    95.171705\n",
       "87        MLP       TFIDF   0.812020  0.812020  0.812020  2531.164760\n",
       "88        MLP  PRETRAINED   0.629914  0.629914  0.629914   208.423105\n",
       "89        MLP     TRAINED   0.709444  0.709444  0.709444    27.631176\n",
       "\n",
       "[90 rows x 6 columns]"
      ]
     },
     "execution_count": 2,
     "metadata": {},
     "output_type": "execute_result"
    }
   ],
   "source": [
    "resultados = pd.read_csv('../validation_results.csv').drop(['Unnamed: 0'],axis=1)\n",
    "resultados"
   ]
  },
  {
   "cell_type": "markdown",
   "metadata": {},
   "source": [
    "### Separando por tipo de medida"
   ]
  },
  {
   "cell_type": "code",
   "execution_count": 3,
   "metadata": {},
   "outputs": [],
   "source": [
    "precisions_lists = []\n",
    "f1scores_lists = []\n",
    "recall_lists = []\n",
    "columns = []\n",
    "for clf in resultados.CLASSIFIER.unique():\n",
    "    for emb in resultados.EMBEDDER.unique():\n",
    "        columns.append(clf+\"_\"+emb)\n",
    "        f1scores_lists.append(resultados[(resultados.CLASSIFIER == clf) & (resultados.EMBEDDER == emb)].F1SCORE.tolist())\n",
    "        precisions_lists.append(resultados[(resultados.CLASSIFIER == clf) & (resultados.EMBEDDER == emb)].PRECISION.tolist())\n",
    "        recall_lists.append(resultados[(resultados.CLASSIFIER == clf) & (resultados.EMBEDDER == emb)].RECALL.tolist())\n",
    "f1score = pd.DataFrame(columns=columns, data=np.array(f1scores_lists).T)\n",
    "precision = pd.DataFrame(columns=columns, data=np.array(precisions_lists).T)\n",
    "recall = pd.DataFrame(columns=columns, data=np.array(recall_lists).T)"
   ]
  },
  {
   "cell_type": "markdown",
   "metadata": {},
   "source": [
    "## Gráfico de F1-Score Médio"
   ]
  },
  {
   "cell_type": "code",
   "execution_count": 4,
   "metadata": {},
   "outputs": [
    {
     "data": {
      "image/png": "[encoded data removed]",
      "text/plain": [
       "<Figure size 432x288 with 1 Axes>"
      ]
     },
     "metadata": {
      "needs_background": "light"
     },
     "output_type": "display_data"
    }
   ],
   "source": [
    "f1T = f1score.T.reset_index()\n",
    "f1T['average'] = f1T.mean(axis=1)\n",
    "\n",
    "plt.plot( 'index', 'average', data=f1T, marker='o', markerfacecolor='blue', markersize=12, color='skyblue', \n",
    "         linewidth=4)\n",
    "plt.errorbar(f1T.index, f1T.average, yerr=0.1)\n",
    "\n",
    "plt.xlabel('CLASSIFICADOR_REPRESENTAÇÃO', fontsize=10, labelpad=15)\n",
    "plt.ylabel('F1 SCORE', fontsize=10, labelpad=15)\n",
    "\n",
    "plt.xticks(rotation=90, color='blue')\n",
    "plt.tight_layout()\n",
    "plt.gcf()\n",
    "plt.savefig('f1score_mean_validation.png', bbox_inches = \"tight\")\n",
    "plt.show()\n",
    "# plt.legend()\n"
   ]
  },
  {
   "cell_type": "markdown",
   "metadata": {},
   "source": [
    "# Testes de Hipóteses"
   ]
  },
  {
   "cell_type": "markdown",
   "metadata": {},
   "source": [
    "Citar:\n",
    "- https://www.theoj.org/joss-papers/joss.02173/10.21105.joss.02173.pdf\n",
    "- http://citeseerx.ist.psu.edu/viewdoc/download?doi=10.1.1.141.3142&rep=rep1&type=pdf"
   ]
  },
  {
   "cell_type": "code",
   "execution_count": 5,
   "metadata": {},
   "outputs": [
    {
     "name": "stdout",
     "output_type": "stream",
     "text": [
      "RankResult(rankdf=\n",
      "                meanrank      mean         std  ci_lower  ci_upper  \\\n",
      "MLP_TFIDF            1.0  0.805938  0.00747454  0.797377  0.814499   \n",
      "MLP_TRAINED          2.0  0.703507  0.00843742  0.693843  0.713171   \n",
      "MLP_PRETRAINED       3.0  0.624571  0.00688802  0.616682   0.63246   \n",
      "KNN_TFIDF            4.1  0.601709  0.00914056   0.59124  0.612178   \n",
      "KNN_PRETRAINED       5.2  0.593124   0.0126524  0.578632  0.607615   \n",
      "KNN_TRAINED          5.7  0.584674   0.0117553   0.57121  0.598138   \n",
      "SVM_TRAINED          7.0  0.522185    0.010734  0.509891  0.534479   \n",
      "SVM_PRETRAINED       8.0  0.115037  0.00392002  0.110547  0.119527   \n",
      "SVM_TFIDF            9.0  0.112055  0.00382062  0.107679  0.116431   \n",
      "\n",
      "               effect_size   magnitude  \n",
      "MLP_TFIDF                0  negligible  \n",
      "MLP_TRAINED        12.8512       large  \n",
      "MLP_PRETRAINED     25.2345       large  \n",
      "KNN_TFIDF          24.4609       large  \n",
      "KNN_PRETRAINED     20.4804       large  \n",
      "KNN_TRAINED        22.4627       large  \n",
      "SVM_TRAINED        30.6793       large  \n",
      "SVM_PRETRAINED     115.767       large  \n",
      "SVM_TFIDF          116.899       large  \n",
      "pvalue=7.349488731808664e-14\n",
      "cd=3.798836994624465\n",
      "omnibus=friedman\n",
      "posthoc=nemenyi\n",
      "all_normal=True\n",
      "pvals_shapiro=[0.9147285223007202, 0.9244105219841003, 0.7935754656791687, 0.5612267851829529, 0.5318087935447693, 0.5699751973152161, 0.567740797996521, 0.9429733753204346, 0.4606925845146179]\n",
      "homoscedastic=False\n",
      "pval_homogeneity=0.0063413280006043415\n",
      "homogeneity_test=bartlett\n",
      "alpha=0.05\n",
      "alpha_normality=0.005555555555555556\n",
      "num_samples=10)\n",
      "#############################################################################################\n",
      "The statistical analysis was conducted for 9 populations with 10 paired samples.\n",
      "The family-wise significance level of the tests is alpha=0.050.\n",
      "We failed to reject the null hypothesis that the population is normal for all populations (minimal observed p-value=0.461). Therefore, we assume that all populations are normal.\n",
      "We applied Bartlett's test for homogeneity and reject the null hypothesis (p=0.006) that thedata is homoscedastic. Thus, we assume that our data is heteroscedastic.\n",
      "Because we have more than two populations and the populations are normal but heteroscedastic, we use the non-parametric Friedman test as omnibus test to determine if there are any significant differences between the mean values of the populations. We use the post-hoc Nemenyi test to infer which differences are significant. We report the mean value (M), the standard deviation (SD) and the mean rank (MR) among all populations over the samples. Differences between populations are significant, if the difference of the mean rank is greater than the critical distance CD=3.799 of the Nemenyi test.\n",
      "We reject the null hypothesis (p=0.000) of the Friedman test that there is no difference in the central tendency of the populations MLP_TFIDF (M=0.806+-0.009, SD=0.007, MR=1.000), MLP_TRAINED (M=0.704+-0.010, SD=0.008, MR=2.000), MLP_PRETRAINED (M=0.625+-0.008, SD=0.007, MR=3.000), KNN_TFIDF (M=0.602+-0.010, SD=0.009, MR=4.100), KNN_PRETRAINED (M=0.593+-0.014, SD=0.013, MR=5.200), KNN_TRAINED (M=0.585+-0.013, SD=0.012, MR=5.700), SVM_TRAINED (M=0.522+-0.012, SD=0.011, MR=7.000), SVM_PRETRAINED (M=0.115+-0.004, SD=0.004, MR=8.000), and SVM_TFIDF (M=0.112+-0.004, SD=0.004, MR=9.000). Therefore, we assume that there is a statistically significant difference between the median values of the populations.\n",
      "Based on the post-hoc Nemenyi test, we assume that there are no significant differences within the following groups: MLP_TFIDF, MLP_TRAINED, MLP_PRETRAINED, and KNN_TFIDF; MLP_TRAINED, MLP_PRETRAINED, KNN_TFIDF, KNN_PRETRAINED, and KNN_TRAINED; KNN_TFIDF, KNN_PRETRAINED, KNN_TRAINED, and SVM_TRAINED; KNN_PRETRAINED, KNN_TRAINED, SVM_TRAINED, and SVM_PRETRAINED; KNN_TRAINED, SVM_TRAINED, SVM_PRETRAINED, and SVM_TFIDF. All other differences are significant.\n"
     ]
    }
   ],
   "source": [
    "result = autorank(f1score, alpha=0.05, verbose=False)\n",
    "print(result)\n",
    "print(\"#############################################################################################\")\n",
    "create_report(result)"
   ]
  },
  {
   "cell_type": "code",
   "execution_count": 6,
   "metadata": {},
   "outputs": [
    {
     "name": "stderr",
     "output_type": "stream",
     "text": [
      "/opt/conda/lib/python3.7/site-packages/ipykernel_launcher.py:2: UserWarning: This figure includes Axes that are not compatible with tight_layout, so results might be incorrect.\n",
      "  \n"
     ]
    },
    {
     "data": {
      "image/png": "[encoded data removed]",
      "text/plain": [
       "<Figure size 432x176.4 with 1 Axes>"
      ]
     },
     "metadata": {},
     "output_type": "display_data"
    }
   ],
   "source": [
    "plot_stats(result)\n",
    "plt.tight_layout()\n",
    "plt.gcf()\n",
    "plt.savefig('cd_diagram.png', bbox_inches = \"tight\")\n",
    "plt.show()"
   ]
  },
  {
   "cell_type": "code",
   "execution_count": 7,
   "metadata": {},
   "outputs": [],
   "source": [
    "# latex_table(result)"
   ]
  },
  {
   "cell_type": "markdown",
   "metadata": {},
   "source": [
    "# Resultados de Teste"
   ]
  },
  {
   "cell_type": "code",
   "execution_count": 8,
   "metadata": {},
   "outputs": [
    {
     "data": {
      "text/html": [
       "<div>\n",
       "<style scoped>\n",
       "    .dataframe tbody tr th:only-of-type {\n",
       "        vertical-align: middle;\n",
       "    }\n",
       "\n",
       "    .dataframe tbody tr th {\n",
       "        vertical-align: top;\n",
       "    }\n",
       "\n",
       "    .dataframe thead th {\n",
       "        text-align: right;\n",
       "    }\n",
       "</style>\n",
       "<table border=\"1\" class=\"dataframe\">\n",
       "  <thead>\n",
       "    <tr style=\"text-align: right;\">\n",
       "      <th></th>\n",
       "      <th>CLASSIFIER</th>\n",
       "      <th>EMBEDDER</th>\n",
       "      <th>PRECISION</th>\n",
       "      <th>RECALL</th>\n",
       "      <th>F1SCORE</th>\n",
       "      <th>TIME</th>\n",
       "    </tr>\n",
       "  </thead>\n",
       "  <tbody>\n",
       "    <tr>\n",
       "      <td>0</td>\n",
       "      <td>KNN</td>\n",
       "      <td>TFIDF</td>\n",
       "      <td>0.607627</td>\n",
       "      <td>0.607627</td>\n",
       "      <td>0.607627</td>\n",
       "      <td>16.046304</td>\n",
       "    </tr>\n",
       "    <tr>\n",
       "      <td>1</td>\n",
       "      <td>KNN</td>\n",
       "      <td>PRETRAINED</td>\n",
       "      <td>0.608531</td>\n",
       "      <td>0.608531</td>\n",
       "      <td>0.608531</td>\n",
       "      <td>17.723126</td>\n",
       "    </tr>\n",
       "    <tr>\n",
       "      <td>2</td>\n",
       "      <td>KNN</td>\n",
       "      <td>TRAINED</td>\n",
       "      <td>0.601482</td>\n",
       "      <td>0.601482</td>\n",
       "      <td>0.601482</td>\n",
       "      <td>9.536788</td>\n",
       "    </tr>\n",
       "    <tr>\n",
       "      <td>3</td>\n",
       "      <td>SVM</td>\n",
       "      <td>TFIDF</td>\n",
       "      <td>0.108802</td>\n",
       "      <td>0.108802</td>\n",
       "      <td>0.108802</td>\n",
       "      <td>680.894546</td>\n",
       "    </tr>\n",
       "    <tr>\n",
       "      <td>4</td>\n",
       "      <td>SVM</td>\n",
       "      <td>PRETRAINED</td>\n",
       "      <td>0.115127</td>\n",
       "      <td>0.115127</td>\n",
       "      <td>0.115127</td>\n",
       "      <td>112.615388</td>\n",
       "    </tr>\n",
       "    <tr>\n",
       "      <td>5</td>\n",
       "      <td>SVM</td>\n",
       "      <td>TRAINED</td>\n",
       "      <td>0.532984</td>\n",
       "      <td>0.532984</td>\n",
       "      <td>0.532984</td>\n",
       "      <td>85.970517</td>\n",
       "    </tr>\n",
       "    <tr>\n",
       "      <td>6</td>\n",
       "      <td>MLP</td>\n",
       "      <td>TFIDF</td>\n",
       "      <td>0.804085</td>\n",
       "      <td>0.804085</td>\n",
       "      <td>0.804085</td>\n",
       "      <td>2563.237148</td>\n",
       "    </tr>\n",
       "    <tr>\n",
       "      <td>7</td>\n",
       "      <td>MLP</td>\n",
       "      <td>PRETRAINED</td>\n",
       "      <td>0.631845</td>\n",
       "      <td>0.631845</td>\n",
       "      <td>0.631845</td>\n",
       "      <td>127.454780</td>\n",
       "    </tr>\n",
       "    <tr>\n",
       "      <td>8</td>\n",
       "      <td>MLP</td>\n",
       "      <td>TRAINED</td>\n",
       "      <td>0.704681</td>\n",
       "      <td>0.704681</td>\n",
       "      <td>0.704681</td>\n",
       "      <td>48.223557</td>\n",
       "    </tr>\n",
       "  </tbody>\n",
       "</table>\n",
       "</div>"
      ],
      "text/plain": [
       "  CLASSIFIER    EMBEDDER  PRECISION    RECALL   F1SCORE         TIME\n",
       "0        KNN       TFIDF   0.607627  0.607627  0.607627    16.046304\n",
       "1        KNN  PRETRAINED   0.608531  0.608531  0.608531    17.723126\n",
       "2        KNN     TRAINED   0.601482  0.601482  0.601482     9.536788\n",
       "3        SVM       TFIDF   0.108802  0.108802  0.108802   680.894546\n",
       "4        SVM  PRETRAINED   0.115127  0.115127  0.115127   112.615388\n",
       "5        SVM     TRAINED   0.532984  0.532984  0.532984    85.970517\n",
       "6        MLP       TFIDF   0.804085  0.804085  0.804085  2563.237148\n",
       "7        MLP  PRETRAINED   0.631845  0.631845  0.631845   127.454780\n",
       "8        MLP     TRAINED   0.704681  0.704681  0.704681    48.223557"
      ]
     },
     "execution_count": 8,
     "metadata": {},
     "output_type": "execute_result"
    }
   ],
   "source": [
    "resultados_teste = pd.read_csv('../test_results.csv').drop(['Unnamed: 0'],axis=1)\n",
    "resultados_teste"
   ]
  },
  {
   "cell_type": "code",
   "execution_count": 9,
   "metadata": {},
   "outputs": [],
   "source": [
    "f1scores_lists = []\n",
    "columns = []\n",
    "for clf in resultados_teste.CLASSIFIER.unique():\n",
    "    for emb in resultados_teste.EMBEDDER.unique():\n",
    "        columns.append(clf+\"_\"+emb)\n",
    "        f1scores_lists.append(resultados_teste[(resultados_teste.CLASSIFIER == clf) & (resultados_teste.EMBEDDER == emb)].F1SCORE.tolist())"
   ]
  },
  {
   "cell_type": "code",
   "execution_count": 10,
   "metadata": {},
   "outputs": [
    {
     "data": {
      "image/png": "[encoded data removed]",
      "text/plain": [
       "<Figure size 432x288 with 1 Axes>"
      ]
     },
     "metadata": {
      "needs_background": "light"
     },
     "output_type": "display_data"
    }
   ],
   "source": [
    "f1T = f1score.T.reset_index()\n",
    "f1T['average'] = f1T.mean(axis=1)\n",
    "\n",
    "plt.plot( 'index', 'average', data=f1T, marker='o', markerfacecolor='blue', markersize=12, color='skyblue', \n",
    "         linewidth=4)\n",
    "# plt.errorbar(f1T.index, f1T.average, yerr=0.1)\n",
    "\n",
    "plt.xlabel('CLASSIFICADOR_REPRESENTAÇÃO', fontsize=10, labelpad=15)\n",
    "plt.ylabel('F1 SCORE', fontsize=10, labelpad=15)\n",
    "\n",
    "plt.xticks(rotation=90, color='blue')\n",
    "plt.tight_layout()\n",
    "plt.gcf()\n",
    "plt.savefig('f1score_mean_test.png', bbox_inches = \"tight\")\n",
    "plt.show()"
   ]
  }
 ],
 "metadata": {
  "kernelspec": {
   "display_name": "Python 3",
   "language": "python",
   "name": "python3"
  },
  "language_info": {
   "codemirror_mode": {
    "name": "ipython",
    "version": 3
   },
   "file_extension": ".py",
   "mimetype": "text/x-python",
   "name": "python",
   "nbconvert_exporter": "python",
   "pygments_lexer": "ipython3",
   "version": "3.7.4"
  }
 },
 "nbformat": 4,
 "nbformat_minor": 4
}
